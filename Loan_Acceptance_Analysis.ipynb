{
 "cells": [
  {
   "cell_type": "markdown",
   "metadata": {},
   "source": [
    "**LOAN APPROVAL**<br>\n",
    "**Objective** Determine what factors tends to have influence over the loan approval of someone and suggest a model that can be use to predict the Loan Status"
   ]
  },
  {
   "cell_type": "code",
   "execution_count": 1,
   "metadata": {},
   "outputs": [
    {
     "name": "stdout",
     "output_type": "stream",
     "text": [
      "['Solarize_Light2', '_classic_test_patch', '_mpl-gallery', '_mpl-gallery-nogrid', 'bmh', 'classic', 'dark_background', 'fast', 'fivethirtyeight', 'ggplot', 'grayscale', 'seaborn-v0_8', 'seaborn-v0_8-bright', 'seaborn-v0_8-colorblind', 'seaborn-v0_8-dark', 'seaborn-v0_8-dark-palette', 'seaborn-v0_8-darkgrid', 'seaborn-v0_8-deep', 'seaborn-v0_8-muted', 'seaborn-v0_8-notebook', 'seaborn-v0_8-paper', 'seaborn-v0_8-pastel', 'seaborn-v0_8-poster', 'seaborn-v0_8-talk', 'seaborn-v0_8-ticks', 'seaborn-v0_8-white', 'seaborn-v0_8-whitegrid', 'tableau-colorblind10']\n",
      "Done\n"
     ]
    }
   ],
   "source": [
    "import pandas as pd\n",
    "import numpy as np \n",
    "import seaborn as sns\n",
    "import matplotlib.pyplot as plt\n",
    "import statsmodels.api as sm\n",
    "from statsmodels.formula.api import ols\n",
    "from scipy import stats\n",
    "import statistics\n",
    "\n",
    "\n",
    "print(plt.style.available)\n",
    "plt.style.use('dark_background')\n",
    "\n",
    "print(\"Done\")"
   ]
  },
  {
   "cell_type": "code",
   "execution_count": 2,
   "metadata": {},
   "outputs": [
    {
     "name": "stdout",
     "output_type": "stream",
     "text": [
      "loan_id                      int64\n",
      "no_of_dependents             int64\n",
      "education                   object\n",
      "self_employed               object\n",
      "income_annum                 int64\n",
      "loan_amount                  int64\n",
      "loan_term                    int64\n",
      "cibil_score                  int64\n",
      "residential_assets_value     int64\n",
      "commercial_assets_value      int64\n",
      "luxury_assets_value          int64\n",
      "bank_asset_value             int64\n",
      "loan_status                 object\n",
      "dtype: object\n",
      "- - - - - - - - - - - - - - - - - - - - -\n",
      "   loan_id  no_of_dependents      education self_employed  income_annum  \\\n",
      "0        1                 2       Graduate            No       9600000   \n",
      "1        2                 0   Not Graduate           Yes       4100000   \n",
      "2        3                 3       Graduate            No       9100000   \n",
      "3        4                 3       Graduate            No       8200000   \n",
      "4        5                 5   Not Graduate           Yes       9800000   \n",
      "\n",
      "   loan_amount  loan_term  cibil_score  residential_assets_value  \\\n",
      "0     29900000         12          778                   2400000   \n",
      "1     12200000          8          417                   2700000   \n",
      "2     29700000         20          506                   7100000   \n",
      "3     30700000          8          467                  18200000   \n",
      "4     24200000         20          382                  12400000   \n",
      "\n",
      "   commercial_assets_value  luxury_assets_value  bank_asset_value loan_status  \n",
      "0                 17600000             22700000           8000000    Approved  \n",
      "1                  2200000              8800000           3300000    Rejected  \n",
      "2                  4500000             33300000          12800000    Rejected  \n",
      "3                  3300000             23300000           7900000    Rejected  \n",
      "4                  8200000             29400000           5000000    Rejected  \n"
     ]
    }
   ],
   "source": [
    "#Lets load the data and have the general overview of what we have in our dataset\n",
    "df = pd.read_csv(r\"C:\\Users\\hp\\OneDrive\\Desktop\\Jack\\Loan_Approval\\loan_approval_dataset.csv\")\n",
    "print(df.dtypes)\n",
    "print(\"- - - - - - - - - - - - - - - - - - - - -\")\n",
    "print(df.head(5))"
   ]
  },
  {
   "cell_type": "markdown",
   "metadata": {},
   "source": [
    "**Data Cleaning**"
   ]
  },
  {
   "cell_type": "code",
   "execution_count": 3,
   "metadata": {},
   "outputs": [
    {
     "name": "stdout",
     "output_type": "stream",
     "text": [
      "Index([], dtype='object')\n",
      "- - - - - - - \n",
      "Empty DataFrame\n",
      "Columns: [loan_id, no_of_dependents, education, self_employed, income_annum, loan_amount, loan_term, cibil_score, residential_assets_value, commercial_assets_value, luxury_assets_value, bank_asset_value, loan_status]\n",
      "Index: []\n",
      "- - - - - - - \n",
      "      loan_id  no_of_dependents education self_employed  income_annum  \\\n",
      "0         NaN               NaN       NaN           NaN           NaN   \n",
      "1         NaN               NaN       NaN           NaN           NaN   \n",
      "2         NaN               NaN       NaN           NaN           NaN   \n",
      "3         NaN               NaN       NaN           NaN           NaN   \n",
      "4         NaN               NaN       NaN           NaN           NaN   \n",
      "...       ...               ...       ...           ...           ...   \n",
      "4264      NaN               NaN       NaN           NaN           NaN   \n",
      "4265      NaN               NaN       NaN           NaN           NaN   \n",
      "4266      NaN               NaN       NaN           NaN           NaN   \n",
      "4267      NaN               NaN       NaN           NaN           NaN   \n",
      "4268      NaN               NaN       NaN           NaN           NaN   \n",
      "\n",
      "      loan_amount  loan_term  cibil_score  residential_assets_value  \\\n",
      "0             NaN        NaN          NaN                       NaN   \n",
      "1             NaN        NaN          NaN                       NaN   \n",
      "2             NaN        NaN          NaN                       NaN   \n",
      "3             NaN        NaN          NaN                       NaN   \n",
      "4             NaN        NaN          NaN                       NaN   \n",
      "...           ...        ...          ...                       ...   \n",
      "4264          NaN        NaN          NaN                       NaN   \n",
      "4265          NaN        NaN          NaN                       NaN   \n",
      "4266          NaN        NaN          NaN                       NaN   \n",
      "4267          NaN        NaN          NaN                       NaN   \n",
      "4268          NaN        NaN          NaN                       NaN   \n",
      "\n",
      "      commercial_assets_value  luxury_assets_value  bank_asset_value  \\\n",
      "0                         NaN                  NaN               NaN   \n",
      "1                         NaN                  NaN               NaN   \n",
      "2                         NaN                  NaN               NaN   \n",
      "3                         NaN                  NaN               NaN   \n",
      "4                         NaN                  NaN               NaN   \n",
      "...                       ...                  ...               ...   \n",
      "4264                      NaN                  NaN               NaN   \n",
      "4265                      NaN                  NaN               NaN   \n",
      "4266                      NaN                  NaN               NaN   \n",
      "4267                      NaN                  NaN               NaN   \n",
      "4268                      NaN                  NaN               NaN   \n",
      "\n",
      "     loan_status  \n",
      "0            NaN  \n",
      "1            NaN  \n",
      "2            NaN  \n",
      "3            NaN  \n",
      "4            NaN  \n",
      "...          ...  \n",
      "4264         NaN  \n",
      "4265         NaN  \n",
      "4266         NaN  \n",
      "4267         NaN  \n",
      "4268         NaN  \n",
      "\n",
      "[4269 rows x 13 columns]\n",
      "   loan_id  no_of_dependents      education self_employed  income_annum  \\\n",
      "0        1                 2       Graduate            No       9600000   \n",
      "1        2                 0   Not Graduate           Yes       4100000   \n",
      "2        3                 3       Graduate            No       9100000   \n",
      "3        4                 3       Graduate            No       8200000   \n",
      "4        5                 5   Not Graduate           Yes       9800000   \n",
      "\n",
      "   loan_amount  loan_term  cibil_score  residential_assets_value  \\\n",
      "0     29900000         12          778                   2400000   \n",
      "1     12200000          8          417                   2700000   \n",
      "2     29700000         20          506                   7100000   \n",
      "3     30700000          8          467                  18200000   \n",
      "4     24200000         20          382                  12400000   \n",
      "\n",
      "   commercial_assets_value  luxury_assets_value  bank_asset_value loan_status  \n",
      "0                 17600000             22700000           8000000    Approved  \n",
      "1                  2200000              8800000           3300000    Rejected  \n",
      "2                  4500000             33300000          12800000    Rejected  \n",
      "3                  3300000             23300000           7900000    Rejected  \n",
      "4                  8200000             29400000           5000000    Rejected  \n"
     ]
    }
   ],
   "source": [
    "#Lets start our analysis by checking for null values and duplicates\n",
    "print(df.columns[df.isnull().any()])\n",
    "print(\"- - - - - - - \")\n",
    "print(df[df.duplicated()])\n",
    "print(\"- - - - - - - \")\n",
    "print(df[df.isnull()])\n",
    "print(df.head(5))"
   ]
  },
  {
   "cell_type": "code",
   "execution_count": 4,
   "metadata": {},
   "outputs": [
    {
     "name": "stdout",
     "output_type": "stream",
     "text": [
      "loan_id                      int64\n",
      "no_of_dependents             int64\n",
      "education                   object\n",
      "self_employed               object\n",
      "income_annum                 int64\n",
      "loan_amount                  int64\n",
      "loan_term                    int64\n",
      "cibil_score                  int64\n",
      "residential_assets_value     int64\n",
      "commercial_assets_value      int64\n",
      "luxury_assets_value          int64\n",
      "bank_asset_value             int64\n",
      "loan_status                 object\n",
      "dtype: object\n",
      "loan_id                     category\n",
      "no_of_dependents                int8\n",
      "education                   category\n",
      "self_employed               category\n",
      "income_annum                   int64\n",
      "loan_amount                    int64\n",
      "loan_term                      int64\n",
      "cibil_score                    int64\n",
      "residential_assets_value       int64\n",
      "commercial_assets_value        int64\n",
      "luxury_assets_value            int64\n",
      "bank_asset_value               int64\n",
      "loan_status                   object\n",
      "dtype: object\n"
     ]
    }
   ],
   "source": [
    "#Lets start our data cleaning process by changing the data types of various columns\n",
    "\n",
    "print(df.dtypes)\n",
    "\n",
    "df['loan_id'] = df['loan_id'].astype('category')\n",
    "df['education'] = df['education'].astype('category')\n",
    "df['self_employed'] = df['self_employed'].astype('category')\n",
    "df['no_of_dependents'] = df['no_of_dependents'].astype(np.int8)\n",
    "\n",
    "print(df.dtypes)"
   ]
  },
  {
   "cell_type": "markdown",
   "metadata": {},
   "source": [
    "**Outliers**<br>\n",
    "There are 2 main ways that we can detect outliers, for this project, I will use Mean +/- 3 Standard Deviation because of expecting the huge variations/difference between the data"
   ]
  },
  {
   "cell_type": "code",
   "execution_count": 5,
   "metadata": {},
   "outputs": [
    {
     "name": "stdout",
     "output_type": "stream",
     "text": [
      "Income annum outliers\n",
      "Empty DataFrame\n",
      "Columns: [loan_id, no_of_dependents, education, self_employed, income_annum, loan_amount, loan_term, cibil_score, residential_assets_value, commercial_assets_value, luxury_assets_value, bank_asset_value, loan_status]\n",
      "Index: []\n",
      "0\n",
      "No outlier Detected\n",
      "\n",
      "\n",
      "\n",
      "\n",
      "Loan Amount Outliers\n",
      "Empty DataFrame\n",
      "Columns: [loan_id, no_of_dependents, education, self_employed, income_annum, loan_amount, loan_term, cibil_score, residential_assets_value, commercial_assets_value, luxury_assets_value, bank_asset_value, loan_status]\n",
      "Index: []\n",
      "0\n",
      "No outlier Detected\n",
      "\n",
      "\n",
      "\n",
      "\n",
      "residential_assets_value\n",
      "     loan_id  no_of_dependents      education self_employed  income_annum  \\\n",
      "714      715                 4   Not Graduate            No       9900000   \n",
      "892      893                 4       Graduate            No       9300000   \n",
      "905      906                 5   Not Graduate            No       9700000   \n",
      "987      988                 5       Graduate            No       9400000   \n",
      "1468    1469                 3   Not Graduate           Yes       9500000   \n",
      "1591    1592                 1       Graduate            No       9500000   \n",
      "1965    1966                 0   Not Graduate            No       9900000   \n",
      "1997    1998                 0       Graduate            No       9300000   \n",
      "2318    2319                 2   Not Graduate           Yes       9600000   \n",
      "2586    2587                 1   Not Graduate           Yes       9800000   \n",
      "2927    2928                 4       Graduate            No       9400000   \n",
      "3119    3120                 4   Not Graduate            No       9800000   \n",
      "3234    3235                 1   Not Graduate            No       9900000   \n",
      "3782    3783                 5       Graduate           Yes       9500000   \n",
      "4042    4043                 4       Graduate            No       9300000   \n",
      "4074    4075                 4   Not Graduate           Yes       9400000   \n",
      "\n",
      "      loan_amount  loan_term  cibil_score  residential_assets_value  \\\n",
      "714      22700000         12          567                  28300000   \n",
      "892      24900000         14          455                  27600000   \n",
      "905      37000000         14          459                  28700000   \n",
      "987      25800000         14          625                  28200000   \n",
      "1468     25500000         12          881                  27000000   \n",
      "1591     23000000         10          627                  28500000   \n",
      "1965     22300000         20          613                  28400000   \n",
      "1997     20300000         14          759                  27000000   \n",
      "2318     29800000         16          499                  28500000   \n",
      "2586     36000000         12          629                  28000000   \n",
      "2927     32200000          6          898                  27600000   \n",
      "3119     29400000          8          592                  29100000   \n",
      "3234     23400000         16          687                  28200000   \n",
      "3782     21700000         16          307                  27500000   \n",
      "4042     34900000          6          837                  27400000   \n",
      "4074     25700000         14          845                  27300000   \n",
      "\n",
      "      commercial_assets_value  luxury_assets_value  bank_asset_value  \\\n",
      "714                   9900000             29700000           5400000   \n",
      "892                   4700000             35100000          13900000   \n",
      "905                  17900000             22800000           5600000   \n",
      "987                  15400000             30800000          11100000   \n",
      "1468                 14100000             21600000           8900000   \n",
      "1591                 11500000             21700000           9100000   \n",
      "1965                  8900000             23600000           4900000   \n",
      "1997                 11600000             26500000          10900000   \n",
      "2318                  6300000             31800000           7400000   \n",
      "2586                  4100000             29800000          11200000   \n",
      "2927                 11800000             19500000           8600000   \n",
      "3119                 16700000             35900000           9000000   \n",
      "3234                  3700000             29600000           8200000   \n",
      "3782                  2700000             28500000           9700000   \n",
      "4042                   800000             21400000           8500000   \n",
      "4074                  4100000             26500000          12200000   \n",
      "\n",
      "     loan_status  \n",
      "714     Approved  \n",
      "892     Rejected  \n",
      "905     Rejected  \n",
      "987     Approved  \n",
      "1468    Approved  \n",
      "1591    Approved  \n",
      "1965    Approved  \n",
      "1997    Approved  \n",
      "2318    Rejected  \n",
      "2586    Approved  \n",
      "2927    Approved  \n",
      "3119    Approved  \n",
      "3234    Approved  \n",
      "3782    Rejected  \n",
      "4042    Approved  \n",
      "4074    Approved  \n",
      "16\n",
      "Empty DataFrame\n",
      "Columns: [loan_id, no_of_dependents, education, self_employed, income_annum, loan_amount, loan_term, cibil_score, residential_assets_value, commercial_assets_value, luxury_assets_value, bank_asset_value, loan_status]\n",
      "Index: []\n",
      "0\n",
      "commercial asset value\n",
      "     loan_id  no_of_dependents      education self_employed  income_annum  \\\n",
      "157      158                 5   Not Graduate           Yes       9900000   \n",
      "258      259                 0       Graduate            No       9800000   \n",
      "367      368                 1   Not Graduate           Yes       9400000   \n",
      "554      555                 3   Not Graduate           Yes       9500000   \n",
      "895      896                 0       Graduate            No       9400000   \n",
      "1029    1030                 2   Not Graduate           Yes       9500000   \n",
      "1254    1255                 5   Not Graduate           Yes       9800000   \n",
      "1272    1273                 5   Not Graduate            No       9900000   \n",
      "1304    1305                 2       Graduate           Yes       9400000   \n",
      "1761    1762                 2   Not Graduate           Yes       9800000   \n",
      "1768    1769                 4   Not Graduate            No       9900000   \n",
      "2914    2915                 3   Not Graduate           Yes       9900000   \n",
      "2940    2941                 1       Graduate           Yes       9600000   \n",
      "3000    3001                 1   Not Graduate           Yes       9900000   \n",
      "3439    3440                 5   Not Graduate           Yes       9700000   \n",
      "3790    3791                 1   Not Graduate            No       9600000   \n",
      "3882    3883                 1       Graduate           Yes       9700000   \n",
      "\n",
      "      loan_amount  loan_term  cibil_score  residential_assets_value  \\\n",
      "157      33300000          6          364                   5300000   \n",
      "258      38800000          8          652                  23200000   \n",
      "367      29800000         10          377                  24100000   \n",
      "554      22800000          6          319                    200000   \n",
      "895      27900000          6          456                  21400000   \n",
      "1029     37000000          8          887                  21800000   \n",
      "1254     35700000         10          726                   9400000   \n",
      "1272     35800000         20          470                   9500000   \n",
      "1304     24800000         14          513                  24200000   \n",
      "1761     32700000          2          304                   4700000   \n",
      "1768     29100000         18          772                  24100000   \n",
      "2914     36500000         16          562                  17300000   \n",
      "2940     34100000         20          828                  26100000   \n",
      "3000     25700000          2          340                  15600000   \n",
      "3439     27400000          2          328                         0   \n",
      "3790     32400000         20          447                  15400000   \n",
      "3882     34300000         20          756                  15700000   \n",
      "\n",
      "      commercial_assets_value  luxury_assets_value  bank_asset_value  \\\n",
      "157                  18700000             27800000           8300000   \n",
      "258                  19000000             29700000           5400000   \n",
      "367                  18500000             30900000          11700000   \n",
      "554                  18800000             34100000           9400000   \n",
      "895                  18500000             35600000           7800000   \n",
      "1029                 18300000             19200000          11700000   \n",
      "1254                 18900000             31200000          12000000   \n",
      "1272                 18400000             39100000          14700000   \n",
      "1304                 18200000             37200000           7500000   \n",
      "1761                 19000000             24500000           8600000   \n",
      "1768                 19400000             26800000          11700000   \n",
      "2914                 18500000             22300000           9800000   \n",
      "2940                 19000000             20800000          12400000   \n",
      "3000                 18800000             29500000          11800000   \n",
      "3439                 18400000             22000000           7900000   \n",
      "3790                 18400000             19800000           4700000   \n",
      "3882                 18500000             26800000          14100000   \n",
      "\n",
      "     loan_status  \n",
      "157     Rejected  \n",
      "258     Approved  \n",
      "367     Rejected  \n",
      "554     Rejected  \n",
      "895     Rejected  \n",
      "1029    Approved  \n",
      "1254    Approved  \n",
      "1272    Rejected  \n",
      "1304    Rejected  \n",
      "1761    Approved  \n",
      "1768    Approved  \n",
      "2914    Approved  \n",
      "2940    Approved  \n",
      "3000    Rejected  \n",
      "3439    Rejected  \n",
      "3790    Rejected  \n",
      "3882    Approved  \n",
      "17\n",
      "Empty DataFrame\n",
      "Columns: [loan_id, no_of_dependents, education, self_employed, income_annum, loan_amount, loan_term, cibil_score, residential_assets_value, commercial_assets_value, luxury_assets_value, bank_asset_value, loan_status]\n",
      "Index: []\n",
      "0\n",
      "luxury_assets_value\n",
      "Empty DataFrame\n",
      "Columns: [loan_id, no_of_dependents, education, self_employed, income_annum, loan_amount, loan_term, cibil_score, residential_assets_value, commercial_assets_value, luxury_assets_value, bank_asset_value, loan_status]\n",
      "Index: []\n",
      "0\n",
      "No outlier Detected\n",
      "\n",
      "\n",
      "\n",
      "\n",
      "bank_asset_value\n",
      "     loan_id  no_of_dependents      education self_employed  income_annum  \\\n",
      "1805    1806                 5   Not Graduate            No       9900000   \n",
      "\n",
      "      loan_amount  loan_term  cibil_score  residential_assets_value  \\\n",
      "1805     33600000         20          580                   7000000   \n",
      "\n",
      "      commercial_assets_value  luxury_assets_value  bank_asset_value  \\\n",
      "1805                 10800000             37400000          14700000   \n",
      "\n",
      "     loan_status  \n",
      "1805    Approved  \n",
      "1\n",
      "Empty DataFrame\n",
      "Columns: [loan_id, no_of_dependents, education, self_employed, income_annum, loan_amount, loan_term, cibil_score, residential_assets_value, commercial_assets_value, luxury_assets_value, bank_asset_value, loan_status]\n",
      "Index: []\n",
      "0\n",
      "Credit Score\n",
      "Empty DataFrame\n",
      "Columns: [loan_id, no_of_dependents, education, self_employed, income_annum, loan_amount, loan_term, cibil_score, residential_assets_value, commercial_assets_value, luxury_assets_value, bank_asset_value, loan_status]\n",
      "Index: []\n",
      "0\n",
      "No outlier Detected\n",
      "\n",
      "\n",
      "\n",
      "\n",
      "     loan_id  no_of_dependents      education self_employed  income_annum  \\\n",
      "97        98                 2   Not Graduate            No       8700000   \n",
      "113      114                 5   Not Graduate           Yes       7300000   \n",
      "123      124                 0   Not Graduate           Yes       9000000   \n",
      "126      127                 4   Not Graduate           Yes        400000   \n",
      "129      130                 3       Graduate            No        400000   \n",
      "...      ...               ...            ...           ...           ...   \n",
      "4246    4247                 1       Graduate           Yes       3100000   \n",
      "4249    4250                 4       Graduate            No       1100000   \n",
      "4253    4254                 5       Graduate           Yes       7000000   \n",
      "4261    4262                 3       Graduate           Yes       3000000   \n",
      "4263    4264                 3       Graduate            No       5000000   \n",
      "\n",
      "      loan_amount  loan_term  cibil_score  residential_assets_value  \\\n",
      "97       25000000         20          861                  14700000   \n",
      "113      22100000         18          879                  19500000   \n",
      "123      18700000         18          865                  26800000   \n",
      "126        800000         10          859                    900000   \n",
      "129       1200000         12          861                    200000   \n",
      "...           ...        ...          ...                       ...   \n",
      "4246     11500000          4          871                   1500000   \n",
      "4249      4000000         14          887                   2400000   \n",
      "4253     26200000         12          896                  13100000   \n",
      "4261      7500000          6          881                   1400000   \n",
      "4263     12700000         14          865                   4700000   \n",
      "\n",
      "      commercial_assets_value  luxury_assets_value  bank_asset_value  \\\n",
      "97                    8500000             23200000           7300000   \n",
      "113                  10600000             19300000           9800000   \n",
      "123                         0             20900000          11300000   \n",
      "126                    500000               800000            200000   \n",
      "129                    600000              1100000            200000   \n",
      "...                       ...                  ...               ...   \n",
      "4246                  2400000              7100000           3600000   \n",
      "4249                  1500000              4200000           1600000   \n",
      "4253                  6600000             23600000           5700000   \n",
      "4261                  4500000              6100000           2300000   \n",
      "4263                  8100000             19500000           6300000   \n",
      "\n",
      "     loan_status  \n",
      "97      Approved  \n",
      "113     Approved  \n",
      "123     Approved  \n",
      "126     Approved  \n",
      "129     Approved  \n",
      "...          ...  \n",
      "4246    Approved  \n",
      "4249    Approved  \n",
      "4253    Approved  \n",
      "4261    Approved  \n",
      "4263    Approved  \n",
      "\n",
      "[333 rows x 13 columns]\n",
      "Number of records befor Trimming 4269\n",
      "Number of records after trimming 3902\n",
      "367 Records have been removed\n"
     ]
    },
    {
     "name": "stderr",
     "output_type": "stream",
     "text": [
      "C:\\Users\\hp\\AppData\\Local\\Temp\\ipykernel_4808\\3711402460.py:23: UserWarning: Boolean Series key will be reindexed to match DataFrame index.\n",
      "  outlier = df[(x<lower) | (x>upper)]\n",
      "C:\\Users\\hp\\AppData\\Local\\Temp\\ipykernel_4808\\3711402460.py:23: UserWarning: Boolean Series key will be reindexed to match DataFrame index.\n",
      "  outlier = df[(x<lower) | (x>upper)]\n",
      "C:\\Users\\hp\\AppData\\Local\\Temp\\ipykernel_4808\\3711402460.py:23: UserWarning: Boolean Series key will be reindexed to match DataFrame index.\n",
      "  outlier = df[(x<lower) | (x>upper)]\n"
     ]
    }
   ],
   "source": [
    "#Lets try to check for outliers in our data\n",
    "x = len(df)\n",
    "\n",
    "def outliers(x):\n",
    "    Arithmetic_mean = statistics.mean(x)\n",
    "    Standard_Deviation = statistics.stdev(x)\n",
    "\n",
    "    upper = Arithmetic_mean + (3*Standard_Deviation)\n",
    "    lower = Arithmetic_mean - (3*Standard_Deviation)\n",
    "\n",
    "    outlier = df[(x<lower) | (x>upper)]\n",
    "    print(outlier)\n",
    "    print(len(outlier))\n",
    "\n",
    "    if len(outlier) > 0:\n",
    "        df.drop(df[x < lower].index, inplace=True)\n",
    "        df.drop(df[x > upper].index, inplace=True)\n",
    "\n",
    "        Arithmetic_mean = statistics.mean(x)\n",
    "        Standard_Deviation = statistics.stdev(x)\n",
    "        upper = Arithmetic_mean + (3*Standard_Deviation)\n",
    "        lower = Arithmetic_mean - (3*Standard_Deviation)\n",
    "        outlier = df[(x<lower) | (x>upper)]\n",
    "        print(outlier)\n",
    "        print(len(outlier))\n",
    "    else:\n",
    "        print(\"No outlier Detected\\n\\n\\n\\n\")\n",
    "\n",
    "\n",
    "    del outlier\n",
    "    del lower\n",
    "    del upper\n",
    "    del Arithmetic_mean\n",
    "    del Standard_Deviation\n",
    "\n",
    "    return '- - - - - - - - - - - -- - - - - -'\n",
    "\n",
    "print('Income annum outliers')\n",
    "outliers(df['income_annum'])\n",
    "print('Loan Amount Outliers')\n",
    "outliers(df['loan_amount'])\n",
    "print('residential_assets_value')\n",
    "outliers(df['residential_assets_value'])\n",
    "print('commercial asset value')\n",
    "outliers(df['commercial_assets_value'])\n",
    "print('luxury_assets_value')\n",
    "outliers(df['luxury_assets_value'])\n",
    "print('bank_asset_value')\n",
    "outliers(df['bank_asset_value'])\n",
    "print('Credit Score')\n",
    "outliers(df['cibil_score'])\n",
    "\n",
    "#Using online search, a credit score cannot be greater than 850\n",
    "print(df[df['cibil_score']>850])\n",
    "df.drop(df[df['cibil_score']>850].index, inplace=True)\n",
    "y = len(df)\n",
    "\n",
    "print(\"Number of records befor Trimming\", x)\n",
    "print(\"Number of records after trimming\",y)\n",
    "print(x-y, \"Records have been removed\")\n",
    "\n",
    "del x\n",
    "del y\n"
   ]
  },
  {
   "cell_type": "code",
   "execution_count": 6,
   "metadata": {},
   "outputs": [],
   "source": [
    "#Lets rename some columns so that someone can easily understand them and to add a new column\n",
    "try:\n",
    "    df.rename(columns={'education':'Education Level','income_annum':'Annual Income','cibil_score':'Credit Score','loan_status':'Loan Status'},inplace=True)\n",
    "except:\n",
    "    print(\"The column names were already updated\")\n",
    "finally:\n",
    "    df['Monthly Income'] = round((df['Annual Income']/12),2)\n",
    "    df['Annual Income to Loan Amount Ratio'] = round(((df['Annual Income'])/(df['loan_amount'])),4)\n"
   ]
  },
  {
   "cell_type": "markdown",
   "metadata": {},
   "source": [
    "**Summary**<br>\n",
    "Since our data is clean, we can have a look at the general description before we start our analysis"
   ]
  },
  {
   "cell_type": "code",
   "execution_count": 7,
   "metadata": {},
   "outputs": [
    {
     "name": "stdout",
     "output_type": "stream",
     "text": [
      "loan_id                               category\n",
      "no_of_dependents                          int8\n",
      "Education Level                       category\n",
      "self_employed                         category\n",
      "Annual Income                            int64\n",
      "loan_amount                              int64\n",
      "loan_term                                int64\n",
      "Credit Score                             int64\n",
      "residential_assets_value                 int64\n",
      "commercial_assets_value                  int64\n",
      "luxury_assets_value                      int64\n",
      "bank_asset_value                         int64\n",
      "Loan Status                             object\n",
      "Monthly Income                         float64\n",
      "Annual Income to Loan Amount Ratio     float64\n",
      "dtype: object\n",
      "\n",
      "\n",
      "       no_of_dependents  Annual Income   loan_amount    loan_term  \\\n",
      "count       3902.000000   3.902000e+03  3.902000e+03  3902.000000   \n",
      "mean           2.489493   5.051461e+06  1.510779e+07    10.895438   \n",
      "std            1.694198   2.779663e+06  8.947552e+06     5.713203   \n",
      "min            0.000000   2.000000e+05  3.000000e+05     2.000000   \n",
      "25%            1.000000   2.700000e+06  7.800000e+06     6.000000   \n",
      "50%            3.000000   5.100000e+06  1.450000e+07    10.000000   \n",
      "75%            4.000000   7.500000e+06  2.130000e+07    16.000000   \n",
      "max            5.000000   9.900000e+06  3.950000e+07    20.000000   \n",
      "\n",
      "       Credit Score  residential_assets_value  commercial_assets_value  \\\n",
      "count   3902.000000              3.902000e+03             3.902000e+03   \n",
      "mean     576.506663              7.373860e+06             4.914659e+06   \n",
      "std      158.658363              6.332118e+06             4.295550e+06   \n",
      "min      300.000000             -1.000000e+05             0.000000e+00   \n",
      "25%      439.250000              2.200000e+06             1.300000e+06   \n",
      "50%      576.000000              5.600000e+06             3.700000e+06   \n",
      "75%      713.000000              1.120000e+07             7.600000e+06   \n",
      "max      850.000000              2.660000e+07             1.790000e+07   \n",
      "\n",
      "       luxury_assets_value  bank_asset_value  Monthly Income  \\\n",
      "count         3.902000e+03      3.902000e+03     3902.000000   \n",
      "mean          1.512096e+07      4.961891e+06   420955.065879   \n",
      "std           9.025890e+06      3.223152e+06   231638.610989   \n",
      "min           3.000000e+05      0.000000e+00    16666.670000   \n",
      "25%           7.600000e+06      2.400000e+06   225000.000000   \n",
      "50%           1.460000e+07      4.600000e+06   425000.000000   \n",
      "75%           2.170000e+07      7.000000e+06   625000.000000   \n",
      "max           3.920000e+07      1.460000e+07   825000.000000   \n",
      "\n",
      "       Annual Income to Loan Amount Ratio  \n",
      "count                         3902.000000  \n",
      "mean                             0.349233  \n",
      "std                              0.073915  \n",
      "min                              0.250000  \n",
      "25%                              0.285700  \n",
      "50%                              0.333300  \n",
      "75%                              0.404800  \n",
      "max                              0.666700  \n",
      "\n",
      "\n",
      "Loan Status\n",
      "Approved    2304\n",
      "Rejected    1598\n",
      "Name: loan_id, dtype: int64\n"
     ]
    }
   ],
   "source": [
    "print(df.dtypes)\n",
    "print(\"\\n\")\n",
    "print(pd.DataFrame(df.describe()))\n",
    "print('\\n')\n",
    "print(df.groupby('Loan Status')['loan_id'].count())"
   ]
  },
  {
   "cell_type": "markdown",
   "metadata": {},
   "source": [
    "**Statistical Analysis**<br>\n",
    "**Q1. Does credit score have a relationship with the loan approval?**"
   ]
  },
  {
   "cell_type": "code",
   "execution_count": 8,
   "metadata": {},
   "outputs": [
    {
     "name": "stdout",
     "output_type": "stream",
     "text": [
      "                          loan_amount  Credit Score\n",
      "Loan Status                                        \n",
      "Approved    loan_amount      1.000000     -0.049495\n",
      "            Credit Score    -0.049495      1.000000\n",
      "Rejected    loan_amount      1.000000      0.005129\n",
      "            Credit Score     0.005129      1.000000\n",
      "\n",
      " \n",
      "\n"
     ]
    }
   ],
   "source": [
    "print(df.groupby('Loan Status',observed=True)[['loan_amount','Credit Score']].corr())\n",
    "print('\\n \\n')\n"
   ]
  },
  {
   "cell_type": "markdown",
   "metadata": {},
   "source": [
    "Lets analyse the relationship between loan approval and credit score, since we are analyzing 2 categories with numerics, we can use  various statistical tests but i choose to use **ttest**<br>\n",
    "**T-TEST** is a statistical test used to evaluate if their is a statistical difference between 2 groups or a group and the hypothesized mean. The Hypotheis being tested are:<br>\n",
    "H<sub>0</sub> We test if the two population means are equal. We accept H<sub>0</sub> if the p_value > 0.05<br>\n",
    "H<sub>1</sub> We test if the two population means differnce are statistically significant. We accept H<sub>1</sub> if the p_value > 0.05<br>\n",
    "#Lets start by dividing the records to 2, that is approved and rejected"
   ]
  },
  {
   "cell_type": "code",
   "execution_count": 9,
   "metadata": {},
   "outputs": [
    {
     "name": "stdout",
     "output_type": "stream",
     "text": [
      "(2304, 2)\n",
      "Index(['Credit Score'], dtype='object')\n",
      "TtestResult(statistic=76.33521107061947, pvalue=0.0, df=3900.0)\n",
      "Since the P_value is approximately 0, we conclude that the credit score tends to affect the statust of someones loan\n"
     ]
    }
   ],
   "source": [
    "Approved= df[df['Loan Status'] == ' Approved'][['Credit Score','loan_id']]\n",
    "Rejected= df[df['Loan Status'] == ' Rejected'][['Credit Score']]\n",
    "print(Approved.shape)\n",
    "print(Rejected.columns)\n",
    "\n",
    "print(stats.ttest_ind(Approved['Credit Score'], Rejected['Credit Score']))\n",
    "print(\"Since the P_value is approximately 0, we conclude that the credit score tends to affect the statust of someones loan\")\n",
    "\n",
    "try:\n",
    "    del Approved\n",
    "    del Rejected\n",
    "except:\n",
    "    print(\"DataFrames not found\")\n"
   ]
  },
  {
   "cell_type": "markdown",
   "metadata": {},
   "source": [
    "Since the **P_value is approximately 0**,we have enough evidence that their is a statistically significant difference to **Reject H<sub>0</sub> and conclude that the credit score** tends to affect the status of someones' loan status"
   ]
  },
  {
   "cell_type": "code",
   "execution_count": 10,
   "metadata": {},
   "outputs": [
    {
     "data": {
      "image/png": "[encoded data removed]",
      "text/plain": [
       "<Figure size 640x480 with 1 Axes>"
      ]
     },
     "metadata": {},
     "output_type": "display_data"
    }
   ],
   "source": [
    "import matplotlib.ticker as ticker\n",
    "plt.grid()\n",
    "sns.boxplot(x='Loan Status',y='Credit Score',data=df,palette='deep',hue='Loan Status',legend=False)\n",
    "ax = plt.gca()\n",
    "ax.yaxis.set_major_locator(ticker.MultipleLocator(base=50))\n",
    "plt.title(\"Distribution of Credit score on Loan Status\")\n",
    "plt.show()"
   ]
  },
  {
   "cell_type": "markdown",
   "metadata": {},
   "source": [
    "Using the box plot above, we can see that majority (more than half) of people who are being accepted for a loan have higher credit score, that is they have a credit score of 600 and above **25<sup>th</sup> percentile** is at approximately 610 with the highest having a credit score of 850 and the least with approximately 300. This shows that as much as having a higher credit score tends to give you a higher chance of being accepted for a loan, it doesn't guarantee the chance since also for the Rejection plot, more than half of the people having a low credit score that is of below 500 have been rejected. But some people who have a credit score of above 750 have their loans rejected for some other reasons. <br>\n",
    "Why?🤔🤔<br>\n",
    "In conclusion, credit score tends to have an influence over the loans status"
   ]
  },
  {
   "cell_type": "markdown",
   "metadata": {},
   "source": [
    "**Q2. Is there a relationship between income level, credit score, and loan status?**<br>\n",
    "Is there a relationship between credit score and income level"
   ]
  },
  {
   "cell_type": "code",
   "execution_count": 11,
   "metadata": {},
   "outputs": [
    {
     "name": "stdout",
     "output_type": "stream",
     "text": [
      "                            Annual Income  Monthly Income  Credit Score\n",
      "Loan Status                                                            \n",
      "Approved    Annual Income        1.000000        1.000000      0.005054\n",
      "            Monthly Income       1.000000        1.000000      0.005054\n",
      "            Credit Score         0.005054        0.005054      1.000000\n",
      "Rejected    Annual Income        1.000000        1.000000     -0.008764\n",
      "            Monthly Income       1.000000        1.000000     -0.008764\n",
      "            Credit Score        -0.008764       -0.008764      1.000000\n",
      "-0.006757959146569174\n",
      "                       df        sum_sq       mean_sq         F    PR(>F)\n",
      "Q(\"Credit Score\")   550.0  4.211851e+15  7.657911e+12  0.989677  0.557126\n",
      "Residual           3351.0  2.592934e+16  7.737790e+12       NaN       NaN\n"
     ]
    }
   ],
   "source": [
    "print(pd.DataFrame(df.groupby('Loan Status',observed=True)[['Annual Income','Monthly Income','Credit Score']].corr()))\n",
    "print(df['Annual Income'].corr(df['Credit Score']))\n",
    "df[\"Credit Score\"] = df[\"Credit Score\"].astype('category')\n",
    "\n",
    "anova = ols('Q(\"Annual Income\") ~ Q(\"Credit Score\")',data=df).fit()\n",
    "print(sm.stats.anova_lm(anova,type=2))\n",
    "\n",
    "del anova\n",
    "df[\"Credit Score\"] = df[\"Credit Score\"].astype(np.int16)\n"
   ]
  },
  {
   "cell_type": "markdown",
   "metadata": {},
   "source": [
    "Using correlation and ANOVA table, we dont have enough evidence to conclude that credit score have a relationship with the income one is expecting<br>\n",
    "Is there a relationship between loan status and income level?🤔🤔"
   ]
  },
  {
   "cell_type": "code",
   "execution_count": 12,
   "metadata": {},
   "outputs": [
    {
     "name": "stdout",
     "output_type": "stream",
     "text": [
      "(2304, 2)\n",
      "(1598, 2)\n",
      "TtestResult(statistic=-0.5804512864342836, pvalue=0.5616438638489933, df=3900.0)\n",
      "Since the P_value is 0.5616438638489933, we have strong evidence to conclude that the income someone gets doesnt affect the loan status\n"
     ]
    }
   ],
   "source": [
    "Approved= df[df['Loan Status'] == ' Approved'][[\"Annual Income\",\"loan_id\"]]\n",
    "Rejected= df[df['Loan Status'] == ' Rejected'][[\"Annual Income\",\"loan_id\"]]\n",
    "print(Approved.shape)\n",
    "print(Rejected.shape)\n",
    "\n",
    "print(stats.ttest_ind(Approved[\"Annual Income\"], Rejected[\"Annual Income\"]))\n",
    "print(\"Since the P_value is 0.5616438638489933, we have strong evidence to conclude that the income someone gets doesnt affect the loan status\")\n",
    "\n",
    "try:\n",
    "    del Approved\n",
    "    del Rejected\n",
    "except:\n",
    "    print(\"DataFrames not found\")"
   ]
  },
  {
   "cell_type": "code",
   "execution_count": null,
   "metadata": {},
   "outputs": [],
   "source": []
  },
  {
   "cell_type": "markdown",
   "metadata": {},
   "source": [
    "**Q3. Do factors like the number of dependents, education level, and self-employment have a relationship with the credit score?**"
   ]
  },
  {
   "cell_type": "code",
   "execution_count": 13,
   "metadata": {},
   "outputs": [
    {
     "name": "stdout",
     "output_type": "stream",
     "text": [
      "                  loan_id\n",
      "no_of_dependents         \n",
      "0                     657\n",
      "1                     633\n",
      "2                     652\n",
      "3                     673\n",
      "4                     677\n",
      "5                     610\n",
      "\n",
      "\n",
      "                      df        sum_sq       mean_sq         F    PR(>F)\n",
      "no_of_dependents     5.0  4.016679e+04   8033.357178  0.318854  0.901907\n",
      "Residual          3896.0  9.815766e+07  25194.471905       NaN       NaN\n",
      "\n",
      "\n",
      "                      df        sum_sq       mean_sq         F    PR(>F)\n",
      "no_of_dependents     5.0  4.178769e+14  8.357537e+13  1.043985  0.389807\n",
      "Residual          3896.0  3.118911e+17  8.005418e+13       NaN       NaN\n"
     ]
    }
   ],
   "source": [
    "#What is the different number of dependents and distribution\n",
    "print(pd.DataFrame(df.groupby('no_of_dependents',observed=True)['loan_id'].count()))\n",
    "print('\\n')\n",
    "#Does Number of dependents affect the creditr score?\n",
    "df['no_of_dependents'] = df['no_of_dependents'].astype('category')\n",
    "\n",
    "print(sm.stats.anova_lm((ols('Q(\"Credit Score\")~no_of_dependents', data=df).fit()),type=2))\n",
    "print('\\n')\n",
    "\n",
    "#Does the number of dependents affect the loan amount\n",
    "print(sm.stats.anova_lm((ols('Q(\"loan_amount\")~no_of_dependents', data=df).fit()),type=2))"
   ]
  },
  {
   "cell_type": "markdown",
   "metadata": {},
   "source": [
    "We reject the null hypothesis and conclude that the number of dependants doesn't have influence over the loan amount and credit score"
   ]
  },
  {
   "cell_type": "code",
   "execution_count": 14,
   "metadata": {},
   "outputs": [
    {
     "name": "stdout",
     "output_type": "stream",
     "text": [
      "TtestResult(statistic=-1.4373341720352697, pvalue=0.15070328657049906, df=3900.0)\n",
      "Since the P_value is 0.15070328657049906, we have strong evidence to conclude that the income someone gets doesnt affect the loan status\n"
     ]
    }
   ],
   "source": [
    "df['no_of_dependents'] = df['no_of_dependents'].astype(np.int8)\n",
    "\n",
    "Approved = df[df['Loan Status'] == ' Approved'][['no_of_dependents',\"loan_id\"]]\n",
    "Rejected = df[df['Loan Status'] == ' Rejected'][['no_of_dependents',\"loan_id\"]]\n",
    "print(stats.ttest_ind(Approved[\"no_of_dependents\"], Rejected[\"no_of_dependents\"]))\n",
    "print(\"Since the P_value is 0.15070328657049906, we have strong evidence to conclude that the income someone gets doesnt affect the loan status\")\n",
    "\n",
    "del Approved \n",
    "del Rejected\n",
    "\n",
    "df['no_of_dependents'] = df['no_of_dependents'].astype('category')\n"
   ]
  },
  {
   "cell_type": "code",
   "execution_count": 15,
   "metadata": {},
   "outputs": [
    {
     "data": {
      "text/html": [
       "<div>\n",
       "<style scoped>\n",
       "    .dataframe tbody tr th:only-of-type {\n",
       "        vertical-align: middle;\n",
       "    }\n",
       "\n",
       "    .dataframe tbody tr th {\n",
       "        vertical-align: top;\n",
       "    }\n",
       "\n",
       "    .dataframe thead th {\n",
       "        text-align: right;\n",
       "    }\n",
       "</style>\n",
       "<table border=\"1\" class=\"dataframe\">\n",
       "  <thead>\n",
       "    <tr style=\"text-align: right;\">\n",
       "      <th>Loan Status</th>\n",
       "      <th>Approved</th>\n",
       "      <th>Rejected</th>\n",
       "    </tr>\n",
       "    <tr>\n",
       "      <th>no_of_dependents</th>\n",
       "      <th></th>\n",
       "      <th></th>\n",
       "    </tr>\n",
       "  </thead>\n",
       "  <tbody>\n",
       "    <tr>\n",
       "      <th>0</th>\n",
       "      <td>404</td>\n",
       "      <td>253</td>\n",
       "    </tr>\n",
       "    <tr>\n",
       "      <th>1</th>\n",
       "      <td>369</td>\n",
       "      <td>264</td>\n",
       "    </tr>\n",
       "    <tr>\n",
       "      <th>2</th>\n",
       "      <td>388</td>\n",
       "      <td>264</td>\n",
       "    </tr>\n",
       "    <tr>\n",
       "      <th>3</th>\n",
       "      <td>404</td>\n",
       "      <td>269</td>\n",
       "    </tr>\n",
       "    <tr>\n",
       "      <th>4</th>\n",
       "      <td>391</td>\n",
       "      <td>286</td>\n",
       "    </tr>\n",
       "    <tr>\n",
       "      <th>5</th>\n",
       "      <td>348</td>\n",
       "      <td>262</td>\n",
       "    </tr>\n",
       "  </tbody>\n",
       "</table>\n",
       "</div>"
      ],
      "text/plain": [
       "Loan Status       Approved  Rejected\n",
       "no_of_dependents                    \n",
       "0                      404       253\n",
       "1                      369       264\n",
       "2                      388       264\n",
       "3                      404       269\n",
       "4                      391       286\n",
       "5                      348       262"
      ]
     },
     "execution_count": 15,
     "metadata": {},
     "output_type": "execute_result"
    },
    {
     "data": {
      "image/png": "[encoded data removed]",
      "text/plain": [
       "<Figure size 640x480 with 1 Axes>"
      ]
     },
     "metadata": {},
     "output_type": "display_data"
    }
   ],
   "source": [
    "df2 = pd.DataFrame(df.groupby(['Loan Status','no_of_dependents'],observed=True)[\"loan_id\"].count())\n",
    "df2.reset_index(inplace = True)\n",
    "df2.columns\n",
    "\n",
    "sns.barplot(x='no_of_dependents',y='loan_id',data=df2,hue='Loan Status',palette='dark')\n",
    "plt.title('Distribution of number of dependents across the loan status')\n",
    "plt.xlabel('Number of Dependents')\n",
    "plt.ylabel('Number of Customers')\n",
    "plt.plot()\n",
    "\n",
    "del df2\n",
    "\n",
    "pd.crosstab(df['no_of_dependents'],df['Loan Status'])"
   ]
  },
  {
   "cell_type": "markdown",
   "metadata": {},
   "source": [
    "The number of dependents don't have any influence over anything🤯🤯🤯<br>\n",
    "Now lets look at the **Education Level**"
   ]
  },
  {
   "cell_type": "code",
   "execution_count": 16,
   "metadata": {},
   "outputs": [
    {
     "name": "stdout",
     "output_type": "stream",
     "text": [
      "                          df        sum_sq       mean_sq         F    PR(>F)\n",
      "Q(\"Education Level\")     1.0  4.029604e+03   4029.603839  0.160045  0.689137\n",
      "Residual              3900.0  9.819380e+07  25177.897365       NaN       NaN\n",
      "\n",
      " Credit Score doesn't have a relationship with Education level\n",
      "TtestResult(statistic=-0.4000566062123697, pvalue=0.6891367345065097, df=3900.0)\n"
     ]
    }
   ],
   "source": [
    "#Does education level have influence over the credit score?\n",
    "model= ols('Q(\"Credit Score\")~Q(\"Education Level\")',data=df).fit()\n",
    "ANOVA=sm.stats.anova_lm(model,type=2)\n",
    "print(ANOVA)\n",
    "print(\"\\n Credit Score doesn't have a relationship with Education level\")\n",
    "\n",
    "del model\n",
    "del ANOVA\n",
    "\n",
    "Approved = df[df['Education Level'] == ' Graduate'][['Credit Score',\"loan_id\"]]\n",
    "Rejected = df[df['Education Level'] == ' Not Graduate'][['Credit Score',\"loan_id\"]]\n",
    "print(stats.ttest_ind(Approved[\"Credit Score\"], Rejected[\"Credit Score\"]))\n",
    "\n",
    "del Approved\n",
    "del Rejected"
   ]
  },
  {
   "cell_type": "code",
   "execution_count": 17,
   "metadata": {},
   "outputs": [
    {
     "name": "stdout",
     "output_type": "stream",
     "text": [
      "[' Graduate', ' Not Graduate']\n",
      "Categories (2, object): [' Graduate', ' Not Graduate']\n"
     ]
    }
   ],
   "source": [
    "print(df['Education Level'].unique())"
   ]
  },
  {
   "cell_type": "code",
   "execution_count": 18,
   "metadata": {},
   "outputs": [
    {
     "name": "stdout",
     "output_type": "stream",
     "text": [
      "                          df        sum_sq       mean_sq         F   PR(>F)\n",
      "Q(\"Education Level\")     1.0  1.515540e+14  1.515540e+14  1.893469  0.16889\n",
      "Residual              3900.0  3.121574e+17  8.004036e+13       NaN      NaN\n",
      "\n",
      " No evidence to conclude that their relationship is statistically significant \n",
      "\n",
      "                          df        sum_sq       mean_sq         F    PR(>F)\n",
      "Q(\"Education Level\")     1.0  1.245713e+11  1.245713e+11  2.322434  0.127601\n",
      "Residual              3900.0  2.091892e+14  5.363826e+10       NaN       NaN\n",
      "\n",
      " No evidence to conclude that their relationship is statistically significant\n"
     ]
    }
   ],
   "source": [
    "#Does Education level have a relationship with loan amount?\n",
    "model= ols('loan_amount~Q(\"Education Level\")',data=df).fit()\n",
    "ANOVA=sm.stats.anova_lm(model,type=2)\n",
    "print(ANOVA)\n",
    "\n",
    "del model\n",
    "del ANOVA\n",
    "\n",
    "print(\"\\n No evidence to conclude that their relationship is statistically significant \\n\")\n",
    "\n",
    "model= ols('Q(\"Monthly Income\")~Q(\"Education Level\")',data=df).fit()\n",
    "ANOVA=sm.stats.anova_lm(model,type=2)\n",
    "print(ANOVA)\n",
    "\n",
    "del model\n",
    "del ANOVA\n",
    "\n",
    "print(\"\\n No evidence to conclude that their relationship is statistically significant\")"
   ]
  },
  {
   "cell_type": "code",
   "execution_count": 19,
   "metadata": {},
   "outputs": [
    {
     "name": "stdout",
     "output_type": "stream",
     "text": [
      "Loan Status       Approved   Rejected   All\n",
      "Education Level                            \n",
      " Graduate             1166        799  1965\n",
      " Not Graduate         1138        799  1937\n",
      "All                   2304       1598  3902\n",
      "\n",
      "\n",
      "\n",
      "Loan Status      Approved  Rejected\n",
      "Education Level                    \n",
      " Graduate        0.593384  0.406616\n",
      " Not Graduate    0.587506  0.412494\n",
      "All              0.590466  0.409534\n",
      "\n",
      " - - - - -CONDITIONAL PROBABILITIES- - - - - -\n",
      "\n"
     ]
    },
    {
     "data": {
      "text/html": [
       "<div>\n",
       "<style scoped>\n",
       "    .dataframe tbody tr th:only-of-type {\n",
       "        vertical-align: middle;\n",
       "    }\n",
       "\n",
       "    .dataframe tbody tr th {\n",
       "        vertical-align: top;\n",
       "    }\n",
       "\n",
       "    .dataframe thead th {\n",
       "        text-align: right;\n",
       "    }\n",
       "</style>\n",
       "<table border=\"1\" class=\"dataframe\">\n",
       "  <thead>\n",
       "    <tr style=\"text-align: right;\">\n",
       "      <th>Loan Status</th>\n",
       "      <th>Approved</th>\n",
       "      <th>Rejected</th>\n",
       "      <th>All</th>\n",
       "    </tr>\n",
       "    <tr>\n",
       "      <th>Education Level</th>\n",
       "      <th></th>\n",
       "      <th></th>\n",
       "      <th></th>\n",
       "    </tr>\n",
       "  </thead>\n",
       "  <tbody>\n",
       "    <tr>\n",
       "      <th>Graduate</th>\n",
       "      <td>0.298821</td>\n",
       "      <td>0.204767</td>\n",
       "      <td>0.503588</td>\n",
       "    </tr>\n",
       "    <tr>\n",
       "      <th>Not Graduate</th>\n",
       "      <td>0.291645</td>\n",
       "      <td>0.204767</td>\n",
       "      <td>0.496412</td>\n",
       "    </tr>\n",
       "    <tr>\n",
       "      <th>All</th>\n",
       "      <td>0.590466</td>\n",
       "      <td>0.409534</td>\n",
       "      <td>1.000000</td>\n",
       "    </tr>\n",
       "  </tbody>\n",
       "</table>\n",
       "</div>"
      ],
      "text/plain": [
       "Loan Status       Approved   Rejected       All\n",
       "Education Level                                \n",
       " Graduate         0.298821   0.204767  0.503588\n",
       " Not Graduate     0.291645   0.204767  0.496412\n",
       "All               0.590466   0.409534  1.000000"
      ]
     },
     "execution_count": 19,
     "metadata": {},
     "output_type": "execute_result"
    }
   ],
   "source": [
    "print(pd.crosstab(df[\"Education Level\"],df[\"Loan Status\"],margins=True))\n",
    "print('\\n\\n')\n",
    "print(pd.crosstab(df[\"Education Level\"],df[\"Loan Status\"],normalize='index',margins=True))\n",
    "\n",
    "print('\\n - - - - -CONDITIONAL PROBABILITIES- - - - - -\\n')\n",
    "pd.crosstab(df[\"Education Level\"],df[\"Loan Status\"],normalize=True,margins=True)"
   ]
  },
  {
   "cell_type": "markdown",
   "metadata": {},
   "source": [
    "The probability of a loan being approved is 0.593384 for graduates and 0.587506 for the not graduates which is a small margin to declare that the graduation status have influence over the loan status"
   ]
  },
  {
   "cell_type": "code",
   "execution_count": 20,
   "metadata": {},
   "outputs": [
    {
     "name": "stdout",
     "output_type": "stream",
     "text": [
      "[' No', ' Yes']\n",
      "Categories (2, object): [' No', ' Yes']\n",
      "TtestResult(statistic=-0.7226193190488042, pvalue=0.46995712489803987, df=3900.0)\n",
      "\n",
      "\n",
      "Loan Status     Approved   Rejected       All\n",
      "self_employed                                \n",
      " No             0.294464   0.203742  0.498206\n",
      " Yes            0.296002   0.205792  0.501794\n",
      "All             0.590466   0.409534  1.000000\n",
      "\n",
      "\n",
      "Loan Status     Approved   Rejected   All\n",
      "self_employed                            \n",
      " No                 1149        795  1944\n",
      " Yes                1155        803  1958\n",
      "All                 2304       1598  3902\n",
      "\n",
      "\n",
      "Loan Status    Approved  Rejected\n",
      "self_employed                    \n",
      " No            0.591049  0.408951\n",
      " Yes           0.589888  0.410112\n",
      "All            0.590466  0.409534\n"
     ]
    }
   ],
   "source": [
    "#Does self employment influence credit score and loan approval status?🤔🤔🤔\n",
    "print(df['self_employed'].unique())\n",
    "\n",
    "Yes = df[df['self_employed'] == ' Yes'][['Credit Score',\"loan_id\"]]\n",
    "No = df[df['self_employed'] == ' No'][['Credit Score',\"loan_id\"]]\n",
    "print(stats.ttest_ind(Yes[\"Credit Score\"], No[\"Credit Score\"]))\n",
    "\n",
    "del Yes\n",
    "del No\n",
    "\n",
    "print('\\n')\n",
    "print(pd.crosstab(df['self_employed'],df['Loan Status'],normalize=True,margins=True))\n",
    "print('\\n')\n",
    "print(pd.crosstab(df['self_employed'],df['Loan Status'],margins=True))\n",
    "print('\\n')\n",
    "print(pd.crosstab(df['self_employed'],df['Loan Status'],margins=True,normalize='index'))"
   ]
  },
  {
   "cell_type": "markdown",
   "metadata": {},
   "source": [
    "Self Employment doesn't affect either credit score or the loan status. My conclusion is due to the low variations between the probabilities and the high pvalue, but with a larger sample of data, we can come with a better conclusion. Lets check at the loan amount"
   ]
  },
  {
   "cell_type": "code",
   "execution_count": 21,
   "metadata": {},
   "outputs": [
    {
     "name": "stdout",
     "output_type": "stream",
     "text": [
      "TtestResult(statistic=0.510747298290754, pvalue=0.6095569251058802, df=3900.0)\n",
      "TtestResult(statistic=0.48188516421814254, pvalue=0.6299145655246785, df=3900.0)\n"
     ]
    }
   ],
   "source": [
    "Yes = df[df['self_employed'] == ' Yes'][['loan_amount',\"loan_id\"]]\n",
    "No = df[df['self_employed'] == ' No'][['loan_amount',\"loan_id\"]]\n",
    "print(stats.ttest_ind(Yes[\"loan_amount\"], No[\"loan_amount\"]))\n",
    "\n",
    "del Yes\n",
    "del No\n",
    "\n",
    "Yes = df[df['self_employed'] == ' Yes'][['Monthly Income',\"loan_id\"]]\n",
    "No = df[df['self_employed'] == ' No'][['Monthly Income',\"loan_id\"]]\n",
    "print(stats.ttest_ind(Yes[\"Monthly Income\"], No[\"Monthly Income\"]))\n",
    "\n",
    "del Yes\n",
    "del No\n",
    "\n"
   ]
  },
  {
   "cell_type": "markdown",
   "metadata": {},
   "source": [
    "Self employment has little relationship with credit score and loan status, this is tested using probabilities and ttest as shown above. We can fairly conclude that **Self Employment** Has little to do with loan status and credit score"
   ]
  },
  {
   "cell_type": "markdown",
   "metadata": {},
   "source": [
    "**Q4 Does Income to loan amount ratio affect the Loan Status?🤔🤔**"
   ]
  },
  {
   "cell_type": "code",
   "execution_count": 22,
   "metadata": {},
   "outputs": [
    {
     "data": {
      "image/png": "[encoded data removed]",
      "text/plain": [
       "<Figure size 640x480 with 1 Axes>"
      ]
     },
     "metadata": {},
     "output_type": "display_data"
    },
    {
     "name": "stdout",
     "output_type": "stream",
     "text": [
      "Index(['index', 'Annual Income to Loan Amount Ratio', 'loan_id'], dtype='object')\n",
      "Index(['index', 'Annual Income to Loan Amount Ratio', 'loan_id'], dtype='object')\n",
      "TtestResult(statistic=-6.150790291444395, pvalue=8.486046700910148e-10, df=3900.0)\n",
      "\n",
      "\n",
      " The avarage Annual Income to Loan Amount Ratio is:  0.3492333675038442  with each group having: \n",
      "Loan Status\n",
      "Approved    0.343200\n",
      "Rejected    0.357932\n",
      "Name: Annual Income to Loan Amount Ratio, dtype: float64\n"
     ]
    }
   ],
   "source": [
    "#Lets try using box plots to analyse their relationship\n",
    "\n",
    "sns.boxplot(x='Loan Status',y='Annual Income to Loan Amount Ratio',data=df,palette='deep',hue='Loan Status',legend=False)\n",
    "plt.title(\"Relationship Between Income to Loan Ratio and Loan Status\")\n",
    "plt.ylabel(\"Income To Loan Ratio\")\n",
    "plt.xlabel('Loan Status')\n",
    "plt.show()\n",
    "\n",
    "\n",
    "#Lets try using a ttest to see if their is a significant difference bewteen the ratio.\n",
    "\n",
    "Approved = df[df['Loan Status'] == ' Approved'][['Annual Income to Loan Amount Ratio','loan_id']]\n",
    "Rejected = df[df['Loan Status'] == ' Rejected'][['Annual Income to Loan Amount Ratio','loan_id']]\n",
    "\n",
    "Approved.reset_index(inplace=True)\n",
    "Rejected.reset_index(inplace=True)\n",
    "print(Approved.columns)\n",
    "print(Rejected.columns)\n",
    "\n",
    "print(stats.ttest_ind(Approved['Annual Income to Loan Amount Ratio'],Rejected['Annual Income to Loan Amount Ratio']))\n",
    "\n",
    "del Approved\n",
    "del Rejected\n",
    "\n",
    "print(\"\\n\\n The avarage Annual Income to Loan Amount Ratio is: \",statistics.mean(df['Annual Income to Loan Amount Ratio']),\" with each group having: \")\n",
    "print(df.groupby('Loan Status',observed=True)['Annual Income to Loan Amount Ratio'].mean())"
   ]
  },
  {
   "cell_type": "markdown",
   "metadata": {},
   "source": [
    "The other factor that has influence over the loan status is **Annual Income to Loan Amount Ratio**.According to the box plot above people who tend to borrow money that has a higher ratio tends to be rejected for a loan and a lower ratio attracts a huge rate of success."
   ]
  },
  {
   "cell_type": "code",
   "execution_count": 23,
   "metadata": {},
   "outputs": [
    {
     "name": "stdout",
     "output_type": "stream",
     "text": [
      "The correlation between income to loan Ratio is  -0.011445211108785103  this is a low correlation which is negligible and\n",
      "we can conclude that the ratio has no relationship with the credit score, which is no surprise \n",
      "considering that both someone income and loan amount has no relationship with credit score\n"
     ]
    }
   ],
   "source": [
    "#Does Annual Income to Loan Amount Ratio have a relationship with credit score?\n",
    "a = df['Annual Income to Loan Amount Ratio'].corr(df['Credit Score'])\n",
    "print(\"\"\"The correlation between income to loan Ratio is \"\"\",a,\"\"\" this is a low correlation which is negligible and\n",
    "we can conclude that the ratio has no relationship with the credit score, which is no surprise \n",
    "considering that both someone income and loan amount has no relationship with credit score\"\"\")"
   ]
  },
  {
   "cell_type": "markdown",
   "metadata": {},
   "source": [
    "**5. Does the loan term and amount affect the approval status?**"
   ]
  },
  {
   "cell_type": "code",
   "execution_count": 24,
   "metadata": {},
   "outputs": [
    {
     "name": "stdout",
     "output_type": "stream",
     "text": [
      "The overall correlation between loan amount and loan term is  0.0046304155165898826  while the independent based on approval status is \n",
      "                         loan_amount  loan_term\n",
      "Loan Status                                    \n",
      "Approved    loan_amount     1.000000  -0.000043\n",
      "            loan_term      -0.000043   1.000000\n",
      "Rejected    loan_amount     1.000000   0.020666\n",
      "            loan_term       0.020666   1.000000\n",
      "10\n"
     ]
    },
    {
     "data": {
      "image/png": "[encoded data removed]",
      "text/plain": [
       "<Figure size 640x480 with 1 Axes>"
      ]
     },
     "metadata": {},
     "output_type": "display_data"
    }
   ],
   "source": [
    "#Is there a relationship between loan amount and loan term\n",
    "print(\"The overall correlation between loan amount and loan term is \",df['loan_amount'].corr(df['loan_term']),\" while the independent based on approval status is \")\n",
    "\n",
    "print(df.groupby('Loan Status')[['loan_amount','loan_term']].corr())\n",
    "\n",
    "print(df['loan_term'].nunique())\n",
    "\n",
    "sns.lineplot(x = 'loan_term',y = 'loan_amount',data=df,palette='deep',hue='Loan Status')\n",
    "plt.show()"
   ]
  },
  {
   "cell_type": "code",
   "execution_count": 25,
   "metadata": {},
   "outputs": [
    {
     "name": "stdout",
     "output_type": "stream",
     "text": [
      "TtestResult(statistic=8.971444866462653, pvalue=4.45310091764395e-19, df=3900.0)\n"
     ]
    }
   ],
   "source": [
    "#Since the graph seems to display some kind of reltionship, lets try to test if the relationship between loan_amount:loan_term and loan status exists\n",
    "df['Loan Amount to Loan Term Ratio'] = round((df['loan_amount']/df['loan_term']),4)\n",
    "\n",
    "approved = df[df['Loan Status'] == ' Approved'][['Loan Amount to Loan Term Ratio','loan_id']]\n",
    "Notapproved = df[df['Loan Status'] == ' Rejected'][['Loan Amount to Loan Term Ratio','loan_id']]\n",
    "\n",
    "print(stats.ttest_ind(approved['Loan Amount to Loan Term Ratio'],Notapproved['Loan Amount to Loan Term Ratio']))\n",
    "\n",
    "del approved\n",
    "del Notapproved"
   ]
  },
  {
   "cell_type": "code",
   "execution_count": 26,
   "metadata": {},
   "outputs": [
    {
     "name": "stdout",
     "output_type": "stream",
     "text": [
      "TtestResult(statistic=-7.721910961234217, pvalue=1.446885522465341e-14, df=3900.0)\n",
      "\n",
      "\n",
      "TtestResult(statistic=1.509998736746192, pvalue=0.13112475686204156, df=3900.0)\n"
     ]
    }
   ],
   "source": [
    "approved = df[df['Loan Status'] == ' Approved'][['loan_term','loan_amount','loan_id']]\n",
    "Notapproved = df[df['Loan Status'] == ' Rejected'][['loan_term','loan_amount','loan_id']]\n",
    "\n",
    "print(stats.ttest_ind(approved['loan_term'],Notapproved['loan_term']))\n",
    "print(\"\\n\")\n",
    "print(stats.ttest_ind(approved['loan_amount'],Notapproved['loan_amount']))\n",
    "\n",
    "del approved\n",
    "del Notapproved"
   ]
  },
  {
   "cell_type": "markdown",
   "metadata": {},
   "source": [
    "Since the pvalue is very low for the ttest of **loan term** and loan status, we reject the **H<sub>0</sub>** and conclude that the loan term has an influence over the loan status<br>\n",
    "There is an extremely low relationship between the loan term and the loan amount. The correlation between the 2 variables is extremely low"
   ]
  },
  {
   "cell_type": "markdown",
   "metadata": {},
   "source": [
    "**6. Is there a relationship between the asset value and a person’s self-employment status, income, and loan amount?**<br><br>\n",
    "***Residential Asset Value*** is the value of the residential property a borower owns.<br>\n",
    "***commercial_assets_value*** is the value of property that one has and are used for busines purposes, eg office buildings, shops<br>\n",
    "***Luxury Asset Value*** is the value of items that someone has and are not essential for their daily needs such as jewellery, gold watch, artifacts, etc<br>\n",
    "***Bank Asset Value*** this includes direct cash that someone has access to."
   ]
  },
  {
   "cell_type": "code",
   "execution_count": 27,
   "metadata": {},
   "outputs": [
    {
     "name": "stdout",
     "output_type": "stream",
     "text": [
      "                          residential_assets_value  commercial_assets_value  \\\n",
      "residential_assets_value                  1.000000                 0.402975   \n",
      "commercial_assets_value                   0.402975                 1.000000   \n",
      "luxury_assets_value                       0.585192                 0.587766   \n",
      "bank_asset_value                          0.515027                 0.538207   \n",
      "\n",
      "                          luxury_assets_value  bank_asset_value  \n",
      "residential_assets_value             0.585192          0.515027  \n",
      "commercial_assets_value              0.587766          0.538207  \n",
      "luxury_assets_value                  1.000000          0.785580  \n",
      "bank_asset_value                     0.785580          1.000000  \n",
      "\n",
      "\n",
      "                                      residential_assets_value  \\\n",
      "Loan Status                                                      \n",
      "Approved    residential_assets_value                  1.000000   \n",
      "            commercial_assets_value                   0.410427   \n",
      "            luxury_assets_value                       0.582398   \n",
      "            bank_asset_value                          0.510972   \n",
      "Rejected    residential_assets_value                  1.000000   \n",
      "            commercial_assets_value                   0.393294   \n",
      "            luxury_assets_value                       0.589408   \n",
      "            bank_asset_value                          0.521152   \n",
      "\n",
      "                                      commercial_assets_value  \\\n",
      "Loan Status                                                     \n",
      "Approved    residential_assets_value                 0.410427   \n",
      "            commercial_assets_value                  1.000000   \n",
      "            luxury_assets_value                      0.603630   \n",
      "            bank_asset_value                         0.570427   \n",
      "Rejected    residential_assets_value                 0.393294   \n",
      "            commercial_assets_value                  1.000000   \n",
      "            luxury_assets_value                      0.564657   \n",
      "            bank_asset_value                         0.490688   \n",
      "\n",
      "                                      luxury_assets_value  bank_asset_value  \n",
      "Loan Status                                                                  \n",
      "Approved    residential_assets_value             0.582398          0.510972  \n",
      "            commercial_assets_value              0.603630          0.570427  \n",
      "            luxury_assets_value                  1.000000          0.782923  \n",
      "            bank_asset_value                     0.782923          1.000000  \n",
      "Rejected    residential_assets_value             0.589408          0.521152  \n",
      "            commercial_assets_value              0.564657          0.490688  \n",
      "            luxury_assets_value                  1.000000          0.789552  \n",
      "            bank_asset_value                     0.789552          1.000000  \n"
     ]
    }
   ],
   "source": [
    "print(pd.DataFrame(df[['residential_assets_value','commercial_assets_value','luxury_assets_value','bank_asset_value']].corr()))\n",
    "print(\"\\n\")\n",
    "print(df.groupby('Loan Status',observed=True)[['residential_assets_value','commercial_assets_value','luxury_assets_value','bank_asset_value']].corr())"
   ]
  },
  {
   "cell_type": "code",
   "execution_count": 28,
   "metadata": {},
   "outputs": [
    {
     "name": "stdout",
     "output_type": "stream",
     "text": [
      "\n",
      " The relationship between Loan Status and  residential_assets_value\n",
      "TtestResult(statistic=-1.20554117441189, pvalue=0.22806758982579042, df=3900.0)\n",
      "\n",
      " The relationship between Loan Status and  commercial_assets_value\n",
      "TtestResult(statistic=0.7997087089983675, pvalue=0.423928290657687, df=3900.0)\n",
      "\n",
      " The relationship between Loan Status and  luxury_assets_value\n",
      "TtestResult(statistic=-0.46379039020169716, pvalue=0.6428238125769052, df=3900.0)\n",
      "\n",
      " The relationship between Loan Status and  bank_asset_value\n",
      "TtestResult(statistic=-0.21811553243548287, pvalue=0.8273505070886193, df=3900.0)\n"
     ]
    },
    {
     "data": {
      "text/plain": [
       "'Done'"
      ]
     },
     "execution_count": 28,
     "metadata": {},
     "output_type": "execute_result"
    }
   ],
   "source": [
    "#Their relationships is good such that a change in one will most likely affect the rest, but does it have a relationship with the loan status?\n",
    "\n",
    "def ttestFunction(x):\n",
    "    print(\"\\n The relationship between Loan Status and \",x)\n",
    "    Approved = df[df['Loan Status'] == ' Approved'][[x,'loan_id']]\n",
    "    Rejected = df[df['Loan Status'] == ' Rejected'][[x,'loan_id']]\n",
    "    print(stats.ttest_ind(Approved[x],Rejected[x]))\n",
    "    del Approved\n",
    "    del Rejected\n",
    "\n",
    "    return \"Done\"\n",
    "\n",
    "ttestFunction('residential_assets_value')\n",
    "ttestFunction('commercial_assets_value')\n",
    "ttestFunction('luxury_assets_value')\n",
    "ttestFunction('bank_asset_value')\n"
   ]
  },
  {
   "cell_type": "markdown",
   "metadata": {},
   "source": [
    "If we look at them directly, we come up to the conclusions that they dont affect the loan status, but lets try to look at them in the view of ratios to loan amount"
   ]
  },
  {
   "cell_type": "code",
   "execution_count": 29,
   "metadata": {},
   "outputs": [
    {
     "name": "stdout",
     "output_type": "stream",
     "text": [
      "\n",
      " The relationship between Loan Status and  Residential Value to Loan Ratio\n",
      "TtestResult(statistic=-1.525824055986078, pvalue=0.12713477513829632, df=3900.0)\n",
      "\n",
      " The relationship between Loan Status and  Commercial Value to Loan Ratio\n",
      "TtestResult(statistic=-1.0091557308775692, pvalue=0.31296255885248175, df=3900.0)\n",
      "\n",
      " The relationship between Loan Status and  Luxury Value to Loan Ratio\n",
      "TtestResult(statistic=-4.256248511933033, pvalue=2.1277455928966472e-05, df=3900.0)\n",
      "\n",
      " The relationship between Loan Status and  Bank Value to Loan Ratio\n",
      "TtestResult(statistic=-3.090975313032855, pvalue=0.0020090797436048847, df=3900.0)\n",
      "\n",
      "\n",
      "                                 Residential Value to Loan Ratio  \\\n",
      "Residential Value to Loan Ratio                         1.000000   \n",
      "Commercial Value to Loan Ratio                          0.088639   \n",
      "Luxury Value to Loan Ratio                              0.250319   \n",
      "Bank Value to Loan Ratio                                0.148077   \n",
      "\n",
      "                                 Commercial Value to Loan Ratio  \\\n",
      "Residential Value to Loan Ratio                        0.088639   \n",
      "Commercial Value to Loan Ratio                         1.000000   \n",
      "Luxury Value to Loan Ratio                             0.218021   \n",
      "Bank Value to Loan Ratio                               0.178947   \n",
      "\n",
      "                                 Luxury Value to Loan Ratio  \\\n",
      "Residential Value to Loan Ratio                    0.250319   \n",
      "Commercial Value to Loan Ratio                     0.218021   \n",
      "Luxury Value to Loan Ratio                         1.000000   \n",
      "Bank Value to Loan Ratio                           0.379011   \n",
      "\n",
      "                                 Bank Value to Loan Ratio  \n",
      "Residential Value to Loan Ratio                  0.148077  \n",
      "Commercial Value to Loan Ratio                   0.178947  \n",
      "Luxury Value to Loan Ratio                       0.379011  \n",
      "Bank Value to Loan Ratio                         1.000000  \n"
     ]
    }
   ],
   "source": [
    "#Lets find the ratios\n",
    "df['Residential Value to Loan Ratio'] = (df['residential_assets_value']/df['loan_amount'])\n",
    "df['Commercial Value to Loan Ratio'] = (df['commercial_assets_value']/df['loan_amount'])\n",
    "df['Luxury Value to Loan Ratio'] = (df['luxury_assets_value']/df['loan_amount'])\n",
    "df['Bank Value to Loan Ratio'] = (df['bank_asset_value']/df['loan_amount'])\n",
    "\n",
    "try:\n",
    "    ttestFunction('Residential Value to Loan Ratio')\n",
    "    ttestFunction('Commercial Value to Loan Ratio')\n",
    "    ttestFunction('Luxury Value to Loan Ratio')\n",
    "    ttestFunction('Bank Value to Loan Ratio')\n",
    "\n",
    "    del ttestFunction\n",
    "except:\n",
    "    print(\"Run the previous cell first\")\n",
    "finally:\n",
    "    print('\\n')\n",
    "    print(df[['Residential Value to Loan Ratio','Commercial Value to Loan Ratio','Luxury Value to Loan Ratio','Bank Value to Loan Ratio']].corr())"
   ]
  },
  {
   "cell_type": "code",
   "execution_count": 30,
   "metadata": {},
   "outputs": [
    {
     "name": "stdout",
     "output_type": "stream",
     "text": [
      "[' No', ' Yes']\n",
      "Categories (2, object): [' No', ' Yes']\n",
      "\n",
      "\n",
      "You are testing the relationship between self employed and  residential_assets_value\n",
      "TtestResult(statistic=1.0643012464312103, pvalue=0.28725814326112364, df=3900.0)\n",
      "\n",
      "\n",
      "You are testing the relationship between self employed and  commercial_assets_value\n",
      "TtestResult(statistic=-0.9339494785345043, pvalue=0.35038777320183867, df=3900.0)\n",
      "\n",
      "\n",
      "You are testing the relationship between self employed and  luxury_assets_value\n",
      "TtestResult(statistic=0.6379466962752092, pvalue=0.5235458326106627, df=3900.0)\n",
      "\n",
      "\n",
      "You are testing the relationship between self employed and  bank_asset_value\n",
      "TtestResult(statistic=0.19881481776923554, pvalue=0.8424179678812106, df=3900.0)\n",
      "\n",
      "\n",
      "You are testing the relationship between self employed and  Residential Value to Loan Ratio\n",
      "TtestResult(statistic=0.8459598423717692, pvalue=0.3976270470039638, df=3900.0)\n",
      "\n",
      "\n",
      "You are testing the relationship between self employed and  Commercial Value to Loan Ratio\n",
      "TtestResult(statistic=-0.9058017072779889, pvalue=0.3650967728166131, df=3900.0)\n",
      "\n",
      "\n",
      "You are testing the relationship between self employed and  Luxury Value to Loan Ratio\n",
      "TtestResult(statistic=0.08012775436311485, pvalue=0.9361397601332029, df=3900.0)\n",
      "\n",
      "\n",
      "You are testing the relationship between self employed and  Bank Value to Loan Ratio\n",
      "TtestResult(statistic=0.2023602456816554, pvalue=0.8396456599265665, df=3900.0)\n"
     ]
    }
   ],
   "source": [
    "print(df['self_employed'].unique())\n",
    "\n",
    "def ttester(x):\n",
    "    print(\"\\n\\nYou are testing the relationship between self employed and \",x)\n",
    "    Self = df[df['self_employed'] == ' Yes'][[x,'loan_id']]\n",
    "    NotSelf = df[df['self_employed'] == ' No'][[x,'loan_id']]\n",
    "    print(stats.ttest_ind(Self[x],NotSelf[x]))\n",
    "    del Self\n",
    "    del NotSelf\n",
    "    return 'Done'\n",
    "\n",
    "ttester('residential_assets_value')\n",
    "ttester('commercial_assets_value')\n",
    "ttester('luxury_assets_value')\n",
    "ttester('bank_asset_value')\n",
    "ttester('Residential Value to Loan Ratio')\n",
    "ttester('Commercial Value to Loan Ratio')\n",
    "ttester('Luxury Value to Loan Ratio')\n",
    "ttester('Bank Value to Loan Ratio')\n",
    "\n",
    "del ttester"
   ]
  },
  {
   "cell_type": "markdown",
   "metadata": {},
   "source": [
    "Self Employment has no effect on the asset value one has"
   ]
  },
  {
   "cell_type": "code",
   "execution_count": 31,
   "metadata": {},
   "outputs": [
    {
     "name": "stdout",
     "output_type": "stream",
     "text": [
      "The relationship between Annual Income and residential_assets_value is 0.6274044301181726\n",
      "The relationship between Annual Income and commercial_assets_value is 0.633417311948059\n",
      "The relationship between Annual Income and luxury_assets_value is 0.9284655975188704\n",
      "The relationship between Annual Income and bank_asset_value is 0.8486153348392853\n"
     ]
    }
   ],
   "source": [
    "print(\"The relationship between Annual Income and residential_assets_value is\",df['Annual Income'].corr(df['residential_assets_value']))\n",
    "print(\"The relationship between Annual Income and commercial_assets_value is\",df['Annual Income'].corr(df['commercial_assets_value']))\n",
    "print(\"The relationship between Annual Income and luxury_assets_value is\",df['Annual Income'].corr(df['luxury_assets_value']))\n",
    "print(\"The relationship between Annual Income and bank_asset_value is\",df['Annual Income'].corr(df['bank_asset_value']))\n"
   ]
  },
  {
   "cell_type": "markdown",
   "metadata": {},
   "source": [
    "There is a good relationship between income and the asset value one has especially the luxury asset and bank assets"
   ]
  },
  {
   "cell_type": "code",
   "execution_count": 32,
   "metadata": {},
   "outputs": [
    {
     "name": "stdout",
     "output_type": "stream",
     "text": [
      "The relationship between loan_amount and residential_assets_value is 0.5884037006815697\n",
      "The relationship between loan_amount and commercial_assets_value is 0.5928820429634867\n",
      "The relationship between loan_amount and luxury_assets_value is 0.8621515805518116\n",
      "The relationship between loan_amount and bank_asset_value is 0.784328440850074\n"
     ]
    }
   ],
   "source": [
    "print(\"The relationship between loan_amount and residential_assets_value is\",df['loan_amount'].corr(df['residential_assets_value']))\n",
    "print(\"The relationship between loan_amount and commercial_assets_value is\",df['loan_amount'].corr(df['commercial_assets_value']))\n",
    "print(\"The relationship between loan_amount and luxury_assets_value is\",df['loan_amount'].corr(df['luxury_assets_value']))\n",
    "print(\"The relationship between loan_amount and bank_asset_value is\",df['loan_amount'].corr(df['bank_asset_value']))"
   ]
  },
  {
   "cell_type": "code",
   "execution_count": 33,
   "metadata": {},
   "outputs": [
    {
     "name": "stdout",
     "output_type": "stream",
     "text": [
      "0.8662659968905297\n"
     ]
    },
    {
     "data": {
      "text/html": [
       "<div>\n",
       "<style scoped>\n",
       "    .dataframe tbody tr th:only-of-type {\n",
       "        vertical-align: middle;\n",
       "    }\n",
       "\n",
       "    .dataframe tbody tr th {\n",
       "        vertical-align: top;\n",
       "    }\n",
       "\n",
       "    .dataframe thead th {\n",
       "        text-align: right;\n",
       "    }\n",
       "</style>\n",
       "<table border=\"1\" class=\"dataframe\">\n",
       "  <thead>\n",
       "    <tr style=\"text-align: right;\">\n",
       "      <th></th>\n",
       "      <th></th>\n",
       "      <th>loan_amount</th>\n",
       "      <th>residential_assets_value</th>\n",
       "      <th>commercial_assets_value</th>\n",
       "      <th>luxury_assets_value</th>\n",
       "      <th>bank_asset_value</th>\n",
       "      <th>Net Asset Value</th>\n",
       "    </tr>\n",
       "    <tr>\n",
       "      <th>Loan Status</th>\n",
       "      <th></th>\n",
       "      <th></th>\n",
       "      <th></th>\n",
       "      <th></th>\n",
       "      <th></th>\n",
       "      <th></th>\n",
       "      <th></th>\n",
       "    </tr>\n",
       "  </thead>\n",
       "  <tbody>\n",
       "    <tr>\n",
       "      <th rowspan=\"6\" valign=\"top\">Approved</th>\n",
       "      <th>loan_amount</th>\n",
       "      <td>1.000000</td>\n",
       "      <td>0.586591</td>\n",
       "      <td>0.620694</td>\n",
       "      <td>0.869931</td>\n",
       "      <td>0.795410</td>\n",
       "      <td>0.875696</td>\n",
       "    </tr>\n",
       "    <tr>\n",
       "      <th>residential_assets_value</th>\n",
       "      <td>0.586591</td>\n",
       "      <td>1.000000</td>\n",
       "      <td>0.410427</td>\n",
       "      <td>0.582398</td>\n",
       "      <td>0.510972</td>\n",
       "      <td>0.779682</td>\n",
       "    </tr>\n",
       "    <tr>\n",
       "      <th>commercial_assets_value</th>\n",
       "      <td>0.620694</td>\n",
       "      <td>0.410427</td>\n",
       "      <td>1.000000</td>\n",
       "      <td>0.603630</td>\n",
       "      <td>0.570427</td>\n",
       "      <td>0.739443</td>\n",
       "    </tr>\n",
       "    <tr>\n",
       "      <th>luxury_assets_value</th>\n",
       "      <td>0.869931</td>\n",
       "      <td>0.582398</td>\n",
       "      <td>0.603630</td>\n",
       "      <td>1.000000</td>\n",
       "      <td>0.782923</td>\n",
       "      <td>0.929845</td>\n",
       "    </tr>\n",
       "    <tr>\n",
       "      <th>bank_asset_value</th>\n",
       "      <td>0.795410</td>\n",
       "      <td>0.510972</td>\n",
       "      <td>0.570427</td>\n",
       "      <td>0.782923</td>\n",
       "      <td>1.000000</td>\n",
       "      <td>0.833161</td>\n",
       "    </tr>\n",
       "    <tr>\n",
       "      <th>Net Asset Value</th>\n",
       "      <td>0.875696</td>\n",
       "      <td>0.779682</td>\n",
       "      <td>0.739443</td>\n",
       "      <td>0.929845</td>\n",
       "      <td>0.833161</td>\n",
       "      <td>1.000000</td>\n",
       "    </tr>\n",
       "    <tr>\n",
       "      <th rowspan=\"6\" valign=\"top\">Rejected</th>\n",
       "      <th>loan_amount</th>\n",
       "      <td>1.000000</td>\n",
       "      <td>0.593846</td>\n",
       "      <td>0.550333</td>\n",
       "      <td>0.851583</td>\n",
       "      <td>0.768287</td>\n",
       "      <td>0.853320</td>\n",
       "    </tr>\n",
       "    <tr>\n",
       "      <th>residential_assets_value</th>\n",
       "      <td>0.593846</td>\n",
       "      <td>1.000000</td>\n",
       "      <td>0.393294</td>\n",
       "      <td>0.589408</td>\n",
       "      <td>0.521152</td>\n",
       "      <td>0.790162</td>\n",
       "    </tr>\n",
       "    <tr>\n",
       "      <th>commercial_assets_value</th>\n",
       "      <td>0.550333</td>\n",
       "      <td>0.393294</td>\n",
       "      <td>1.000000</td>\n",
       "      <td>0.564657</td>\n",
       "      <td>0.490688</td>\n",
       "      <td>0.705288</td>\n",
       "    </tr>\n",
       "    <tr>\n",
       "      <th>luxury_assets_value</th>\n",
       "      <td>0.851583</td>\n",
       "      <td>0.589408</td>\n",
       "      <td>0.564657</td>\n",
       "      <td>1.000000</td>\n",
       "      <td>0.789552</td>\n",
       "      <td>0.928397</td>\n",
       "    </tr>\n",
       "    <tr>\n",
       "      <th>bank_asset_value</th>\n",
       "      <td>0.768287</td>\n",
       "      <td>0.521152</td>\n",
       "      <td>0.490688</td>\n",
       "      <td>0.789552</td>\n",
       "      <td>1.000000</td>\n",
       "      <td>0.825147</td>\n",
       "    </tr>\n",
       "    <tr>\n",
       "      <th>Net Asset Value</th>\n",
       "      <td>0.853320</td>\n",
       "      <td>0.790162</td>\n",
       "      <td>0.705288</td>\n",
       "      <td>0.928397</td>\n",
       "      <td>0.825147</td>\n",
       "      <td>1.000000</td>\n",
       "    </tr>\n",
       "  </tbody>\n",
       "</table>\n",
       "</div>"
      ],
      "text/plain": [
       "                                      loan_amount  residential_assets_value  \\\n",
       "Loan Status                                                                   \n",
       "Approved    loan_amount                  1.000000                  0.586591   \n",
       "            residential_assets_value     0.586591                  1.000000   \n",
       "            commercial_assets_value      0.620694                  0.410427   \n",
       "            luxury_assets_value          0.869931                  0.582398   \n",
       "            bank_asset_value             0.795410                  0.510972   \n",
       "            Net Asset Value              0.875696                  0.779682   \n",
       "Rejected    loan_amount                  1.000000                  0.593846   \n",
       "            residential_assets_value     0.593846                  1.000000   \n",
       "            commercial_assets_value      0.550333                  0.393294   \n",
       "            luxury_assets_value          0.851583                  0.589408   \n",
       "            bank_asset_value             0.768287                  0.521152   \n",
       "            Net Asset Value              0.853320                  0.790162   \n",
       "\n",
       "                                      commercial_assets_value  \\\n",
       "Loan Status                                                     \n",
       "Approved    loan_amount                              0.620694   \n",
       "            residential_assets_value                 0.410427   \n",
       "            commercial_assets_value                  1.000000   \n",
       "            luxury_assets_value                      0.603630   \n",
       "            bank_asset_value                         0.570427   \n",
       "            Net Asset Value                          0.739443   \n",
       "Rejected    loan_amount                              0.550333   \n",
       "            residential_assets_value                 0.393294   \n",
       "            commercial_assets_value                  1.000000   \n",
       "            luxury_assets_value                      0.564657   \n",
       "            bank_asset_value                         0.490688   \n",
       "            Net Asset Value                          0.705288   \n",
       "\n",
       "                                      luxury_assets_value  bank_asset_value  \\\n",
       "Loan Status                                                                   \n",
       "Approved    loan_amount                          0.869931          0.795410   \n",
       "            residential_assets_value             0.582398          0.510972   \n",
       "            commercial_assets_value              0.603630          0.570427   \n",
       "            luxury_assets_value                  1.000000          0.782923   \n",
       "            bank_asset_value                     0.782923          1.000000   \n",
       "            Net Asset Value                      0.929845          0.833161   \n",
       "Rejected    loan_amount                          0.851583          0.768287   \n",
       "            residential_assets_value             0.589408          0.521152   \n",
       "            commercial_assets_value              0.564657          0.490688   \n",
       "            luxury_assets_value                  1.000000          0.789552   \n",
       "            bank_asset_value                     0.789552          1.000000   \n",
       "            Net Asset Value                      0.928397          0.825147   \n",
       "\n",
       "                                      Net Asset Value  \n",
       "Loan Status                                            \n",
       "Approved    loan_amount                      0.875696  \n",
       "            residential_assets_value         0.779682  \n",
       "            commercial_assets_value          0.739443  \n",
       "            luxury_assets_value              0.929845  \n",
       "            bank_asset_value                 0.833161  \n",
       "            Net Asset Value                  1.000000  \n",
       "Rejected    loan_amount                      0.853320  \n",
       "            residential_assets_value         0.790162  \n",
       "            commercial_assets_value          0.705288  \n",
       "            luxury_assets_value              0.928397  \n",
       "            bank_asset_value                 0.825147  \n",
       "            Net Asset Value                  1.000000  "
      ]
     },
     "execution_count": 33,
     "metadata": {},
     "output_type": "execute_result"
    }
   ],
   "source": [
    "#Lets create a silly column of Networth\n",
    "df['Net Asset Value'] = df['residential_assets_value'] + df['commercial_assets_value'] + df['luxury_assets_value'] + df['bank_asset_value']\n",
    "\n",
    "print(df['Net Asset Value'].corr(df['loan_amount']))\n",
    "\n",
    "df.groupby('Loan Status',observed=True)[['loan_amount','residential_assets_value','commercial_assets_value','luxury_assets_value','bank_asset_value','Net Asset Value']].corr()"
   ]
  },
  {
   "cell_type": "code",
   "execution_count": 34,
   "metadata": {},
   "outputs": [
    {
     "name": "stdout",
     "output_type": "stream",
     "text": [
      "TtestResult(statistic=-0.47468697253160713, pvalue=0.6350366832170105, df=3900.0)\n",
      "TtestResult(statistic=-3.7899002011989693, pvalue=0.00015298392811585658, df=3900.0)\n"
     ]
    }
   ],
   "source": [
    "#Does Someones net asset value have a relationship with loan approval status?\n",
    "\n",
    "Accepted = df[df['Loan Status'] == ' Approved'][['loan_id','Net Asset Value']]\n",
    "Rejected = df[df['Loan Status'] == ' Rejected'][['loan_id','Net Asset Value']]\n",
    "\n",
    "print(stats.ttest_ind(Accepted['Net Asset Value'],Rejected['Net Asset Value']))\n",
    "\n",
    "del Accepted\n",
    "del Rejected\n",
    "\n",
    "df['Net Asset Value to Loan Amount Ratio'] = df['Net Asset Value'] / df['loan_amount']\n",
    "\n",
    "Accepted = df[df['Loan Status'] == ' Approved'][['loan_id','Net Asset Value to Loan Amount Ratio']]\n",
    "Rejected = df[df['Loan Status'] == ' Rejected'][['loan_id','Net Asset Value to Loan Amount Ratio']]\n",
    "\n",
    "print(stats.ttest_ind(Accepted['Net Asset Value to Loan Amount Ratio'],Rejected['Net Asset Value to Loan Amount Ratio']))\n",
    "\n",
    "del Accepted\n",
    "del Rejected"
   ]
  },
  {
   "cell_type": "markdown",
   "metadata": {},
   "source": [
    "Using the ttest of Net Asset Value to Loan Amount Ratio in respect to loan status, we reject H<sub>0</sub> because the \n",
    "pvalue=0.00015298392811585658 and we conclude that the Net Asset to Loan amount Ratio has an effect on the loan status"
   ]
  },
  {
   "cell_type": "markdown",
   "metadata": {},
   "source": [
    "**Machine Learning Modeling**<br>\n",
    "We are going to use Logistic regression to build a model for this data. This is because, we are dealing with a binary decision making that is Approved or Reject"
   ]
  },
  {
   "cell_type": "code",
   "execution_count": 35,
   "metadata": {},
   "outputs": [],
   "source": [
    "#Lets import the necessary libraries needed for this\n",
    "from sklearn.model_selection import train_test_split,GridSearchCV\n",
    "from sklearn.linear_model import LogisticRegression\n",
    "from sklearn.metrics import accuracy_score,f1_score,precision_score,recall_score\n"
   ]
  },
  {
   "cell_type": "code",
   "execution_count": 54,
   "metadata": {},
   "outputs": [
    {
     "name": "stdout",
     "output_type": "stream",
     "text": [
      "(3121, 4)\n",
      "(781, 4)\n",
      "(3121,)\n",
      "(781,)\n"
     ]
    },
    {
     "data": {
      "text/plain": [
       "Index(['loan_id', 'no_of_dependents', 'Education Level', 'self_employed',\n",
       "       'Annual Income', 'loan_amount', 'loan_term', 'Credit Score',\n",
       "       'residential_assets_value', 'commercial_assets_value',\n",
       "       'luxury_assets_value', 'bank_asset_value', 'Loan Status',\n",
       "       'Monthly Income', 'Annual Income to Loan Amount Ratio',\n",
       "       'Loan Amount to Loan Term Ratio', 'Residential Value to Loan Ratio',\n",
       "       'Commercial Value to Loan Ratio', 'Luxury Value to Loan Ratio',\n",
       "       'Bank Value to Loan Ratio', 'Net Asset Value',\n",
       "       'Net Asset Value to Loan Amount Ratio'],\n",
       "      dtype='object')"
      ]
     },
     "execution_count": 54,
     "metadata": {},
     "output_type": "execute_result"
    }
   ],
   "source": [
    "#Lets split the data \n",
    "y = df['Loan Status']\n",
    "x = df[['Annual Income to Loan Amount Ratio','Credit Score','loan_amount','loan_term']]\n",
    "\n",
    "Xtrain,Xtest,Ytrain,Ytest = train_test_split(x,y,test_size = 0.2,random_state=42)\n",
    "print(Xtrain.shape)\n",
    "print(Xtest.shape)\n",
    "print(Ytrain.shape)\n",
    "print(Ytest.shape)\n",
    "df.columns"
   ]
  },
  {
   "cell_type": "code",
   "execution_count": 37,
   "metadata": {},
   "outputs": [
    {
     "name": "stdout",
     "output_type": "stream",
     "text": [
      "Accuracy Score 0.7631241997439181\n",
      "\n",
      "-----ANOTHER ONE----\n",
      "The accuracy score is 0.615877080665813\n",
      "The precision score is 0.9698924731182795\n",
      "The F1_Score is 0.7504159733777038\n",
      " \n",
      " \n",
      "The precision score is 0.0949367088607595\n",
      "The F1_Score is 0.16666666666666666\n"
     ]
    }
   ],
   "source": [
    "classifier = LogisticRegression(solver='lbfgs',random_state=42)\n",
    "classifier.fit(Xtrain,Ytrain)\n",
    "Ypredict = classifier.predict(Xtest)\n",
    "print(\"Accuracy Score\",accuracy_score(Ypredict,Ytest))\n",
    "\n",
    "print(\"\\n-----ANOTHER ONE----\")\n",
    "classifier = LogisticRegression(solver='liblinear',random_state=42)\n",
    "classifier.fit(Xtrain,Ytrain)\n",
    "\n",
    "Ypredict = classifier.predict(Xtest)\n",
    "print(\"The accuracy score is\",accuracy_score(Ypredict,Ytest))\n",
    "print(\"The precision score is\",precision_score(Ypredict,Ytest,pos_label=' Approved'))\n",
    "print(\"The F1_Score is\",f1_score(Ypredict,Ytest,pos_label=' Approved'))\n",
    "print(\" \\n \")\n",
    "print(\"The precision score is\",precision_score(Ypredict,Ytest,pos_label=' Rejected'))\n",
    "print(\"The F1_Score is\",f1_score(Ypredict,Ytest,pos_label=' Rejected'))"
   ]
  },
  {
   "cell_type": "markdown",
   "metadata": {},
   "source": [
    "Since our accuracy score is below 90,lets try adjustments of Hyper parameters. We will try using **Grid Search Cross Validation** to find the best parameters to use in the models"
   ]
  },
  {
   "cell_type": "code",
   "execution_count": 52,
   "metadata": {},
   "outputs": [
    {
     "name": "stdout",
     "output_type": "stream",
     "text": [
      "Best Parameters: {'C': 1, 'max_iter': 120, 'penalty': 'l1', 'tol': 0.001}\n",
      "Best Score: 0.915411282051282\n"
     ]
    }
   ],
   "source": [
    "#Since every time it shows that the lbfgs doesnt converge, lets try using the \n",
    "param_grid = {\n",
    "    'penalty': ['l1', 'l2'],\n",
    "    'C': [0.01, 0.1, 1, 10, 100],\n",
    "    'tol': [1e-4, 1e-3, 1e-2],\n",
    "    'max_iter': [100,120,140,160,180,200]\n",
    "}\n",
    "\n",
    "# Create a logistic regression model\n",
    "classifier = LogisticRegression(class_weight='balanced',solver='liblinear')\n",
    "\n",
    "# Create a GridSearchCV object\n",
    "grid_search = GridSearchCV(estimator=classifier, param_grid=param_grid, cv=5, scoring='accuracy')\n",
    "\n",
    "# Fit the model\n",
    "grid_search.fit(Xtrain, Ytrain)\n",
    "\n",
    "# Print the best parameters and best score\n",
    "print(\"Best Parameters:\", grid_search.best_params_)\n",
    "print(\"Best Score:\", grid_search.best_score_)\n"
   ]
  },
  {
   "cell_type": "code",
   "execution_count": 55,
   "metadata": {},
   "outputs": [
    {
     "name": "stdout",
     "output_type": "stream",
     "text": [
      "The accuracy score is 0.9206145966709347\n",
      "The precision score is 0.9092920353982301\n",
      "The F1_Score is 0.9298642533936652\n",
      "\n",
      "For Rejected Loans\n",
      "The precision score is 0.9361702127659575\n",
      "The F1_Score is 0.9085545722713865\n"
     ]
    }
   ],
   "source": [
    "#Since now we have the best parameters, we can re-create our model\n",
    "\n",
    "a = LogisticRegression(solver='liblinear',C=1,max_iter=120,penalty='l1',tol=0.001,class_weight='balanced',random_state=42)\n",
    "a.fit(Xtrain,Ytrain)\n",
    "\n",
    "Ypredict = a.predict(Xtest)\n",
    "print(\"The accuracy score is\",accuracy_score(Ypredict,Ytest))\n",
    "print(\"The precision score is\",precision_score(Ypredict,Ytest,pos_label=' Approved'))\n",
    "print(\"The F1_Score is\",f1_score(Ypredict,Ytest,pos_label=' Approved'))\n",
    "print(\"\\nFor Rejected Loans\")\n",
    "print(\"The precision score is\",precision_score(Ypredict,Ytest,pos_label=' Rejected'))\n",
    "print(\"The F1_Score is\",f1_score(Ypredict,Ytest,pos_label=' Rejected'))"
   ]
  },
  {
   "cell_type": "code",
   "execution_count": 45,
   "metadata": {},
   "outputs": [
    {
     "name": "stdout",
     "output_type": "stream",
     "text": [
      "The accuracy score is 0.9218950064020487\n",
      "The precision score is 0.9096774193548387\n",
      "The F1_Score is 0.9327453142227122\n",
      "\n",
      "For Rejected Loans\n",
      "The precision score is 0.939873417721519\n",
      "The F1_Score is 0.9068702290076336\n"
     ]
    }
   ],
   "source": [
    "from sklearn.ensemble import BaggingClassifier\n",
    "\n",
    "base_estimator = LogisticRegression(solver='liblinear', C=1, max_iter=100, penalty='l1', tol=0.0001, class_weight='balanced', random_state=42)\n",
    "\n",
    "# Create the Bagging classifier\n",
    "bagging = BaggingClassifier(estimator=base_estimator, n_estimators=20)\n",
    "\n",
    "bagging.fit(Xtrain,Ytrain)\n",
    "\n",
    "ypred = bagging.predict(Xtest)\n",
    "\n",
    "print(\"The accuracy score is\",accuracy_score(ypred,Ytest))\n",
    "print(\"The precision score is\",precision_score(ypred,Ytest,pos_label=' Approved'))\n",
    "print(\"The F1_Score is\",f1_score(ypred,Ytest,pos_label=' Approved'))\n",
    "print(\"\\nFor Rejected Loans\")\n",
    "print(\"The precision score is\",precision_score(ypred,Ytest,pos_label=' Rejected'))\n",
    "print(\"The F1_Score is\",f1_score(ypred,Ytest,pos_label=' Rejected'))\n"
   ]
  },
  {
   "cell_type": "code",
   "execution_count": 41,
   "metadata": {},
   "outputs": [
    {
     "name": "stderr",
     "output_type": "stream",
     "text": [
      "c:\\Users\\hp\\AppData\\Local\\Programs\\Python\\Python312\\Lib\\site-packages\\sklearn\\svm\\_base.py:1235: ConvergenceWarning: Liblinear failed to converge, increase the number of iterations.\n",
      "  warnings.warn(\n",
      "c:\\Users\\hp\\AppData\\Local\\Programs\\Python\\Python312\\Lib\\site-packages\\sklearn\\svm\\_base.py:1235: ConvergenceWarning: Liblinear failed to converge, increase the number of iterations.\n",
      "  warnings.warn(\n",
      "c:\\Users\\hp\\AppData\\Local\\Programs\\Python\\Python312\\Lib\\site-packages\\sklearn\\svm\\_base.py:1235: ConvergenceWarning: Liblinear failed to converge, increase the number of iterations.\n",
      "  warnings.warn(\n",
      "c:\\Users\\hp\\AppData\\Local\\Programs\\Python\\Python312\\Lib\\site-packages\\sklearn\\svm\\_base.py:1235: ConvergenceWarning: Liblinear failed to converge, increase the number of iterations.\n",
      "  warnings.warn(\n",
      "c:\\Users\\hp\\AppData\\Local\\Programs\\Python\\Python312\\Lib\\site-packages\\sklearn\\svm\\_base.py:1235: ConvergenceWarning: Liblinear failed to converge, increase the number of iterations.\n",
      "  warnings.warn(\n",
      "c:\\Users\\hp\\AppData\\Local\\Programs\\Python\\Python312\\Lib\\site-packages\\sklearn\\svm\\_base.py:1235: ConvergenceWarning: Liblinear failed to converge, increase the number of iterations.\n",
      "  warnings.warn(\n",
      "c:\\Users\\hp\\AppData\\Local\\Programs\\Python\\Python312\\Lib\\site-packages\\sklearn\\svm\\_base.py:1235: ConvergenceWarning: Liblinear failed to converge, increase the number of iterations.\n",
      "  warnings.warn(\n",
      "c:\\Users\\hp\\AppData\\Local\\Programs\\Python\\Python312\\Lib\\site-packages\\sklearn\\svm\\_base.py:1235: ConvergenceWarning: Liblinear failed to converge, increase the number of iterations.\n",
      "  warnings.warn(\n",
      "c:\\Users\\hp\\AppData\\Local\\Programs\\Python\\Python312\\Lib\\site-packages\\sklearn\\svm\\_base.py:1235: ConvergenceWarning: Liblinear failed to converge, increase the number of iterations.\n",
      "  warnings.warn(\n",
      "c:\\Users\\hp\\AppData\\Local\\Programs\\Python\\Python312\\Lib\\site-packages\\sklearn\\svm\\_base.py:1235: ConvergenceWarning: Liblinear failed to converge, increase the number of iterations.\n",
      "  warnings.warn(\n",
      "c:\\Users\\hp\\AppData\\Local\\Programs\\Python\\Python312\\Lib\\site-packages\\sklearn\\svm\\_base.py:1235: ConvergenceWarning: Liblinear failed to converge, increase the number of iterations.\n",
      "  warnings.warn(\n",
      "c:\\Users\\hp\\AppData\\Local\\Programs\\Python\\Python312\\Lib\\site-packages\\sklearn\\svm\\_base.py:1235: ConvergenceWarning: Liblinear failed to converge, increase the number of iterations.\n",
      "  warnings.warn(\n",
      "c:\\Users\\hp\\AppData\\Local\\Programs\\Python\\Python312\\Lib\\site-packages\\sklearn\\svm\\_base.py:1235: ConvergenceWarning: Liblinear failed to converge, increase the number of iterations.\n",
      "  warnings.warn(\n",
      "c:\\Users\\hp\\AppData\\Local\\Programs\\Python\\Python312\\Lib\\site-packages\\sklearn\\svm\\_base.py:1235: ConvergenceWarning: Liblinear failed to converge, increase the number of iterations.\n",
      "  warnings.warn(\n",
      "c:\\Users\\hp\\AppData\\Local\\Programs\\Python\\Python312\\Lib\\site-packages\\sklearn\\svm\\_base.py:1235: ConvergenceWarning: Liblinear failed to converge, increase the number of iterations.\n",
      "  warnings.warn(\n",
      "c:\\Users\\hp\\AppData\\Local\\Programs\\Python\\Python312\\Lib\\site-packages\\sklearn\\svm\\_base.py:1235: ConvergenceWarning: Liblinear failed to converge, increase the number of iterations.\n",
      "  warnings.warn(\n",
      "c:\\Users\\hp\\AppData\\Local\\Programs\\Python\\Python312\\Lib\\site-packages\\sklearn\\svm\\_base.py:1235: ConvergenceWarning: Liblinear failed to converge, increase the number of iterations.\n",
      "  warnings.warn(\n",
      "c:\\Users\\hp\\AppData\\Local\\Programs\\Python\\Python312\\Lib\\site-packages\\sklearn\\svm\\_base.py:1235: ConvergenceWarning: Liblinear failed to converge, increase the number of iterations.\n",
      "  warnings.warn(\n",
      "c:\\Users\\hp\\AppData\\Local\\Programs\\Python\\Python312\\Lib\\site-packages\\sklearn\\svm\\_base.py:1235: ConvergenceWarning: Liblinear failed to converge, increase the number of iterations.\n",
      "  warnings.warn(\n",
      "c:\\Users\\hp\\AppData\\Local\\Programs\\Python\\Python312\\Lib\\site-packages\\sklearn\\svm\\_base.py:1235: ConvergenceWarning: Liblinear failed to converge, increase the number of iterations.\n",
      "  warnings.warn(\n",
      "c:\\Users\\hp\\AppData\\Local\\Programs\\Python\\Python312\\Lib\\site-packages\\sklearn\\svm\\_base.py:1235: ConvergenceWarning: Liblinear failed to converge, increase the number of iterations.\n",
      "  warnings.warn(\n",
      "c:\\Users\\hp\\AppData\\Local\\Programs\\Python\\Python312\\Lib\\site-packages\\sklearn\\svm\\_base.py:1235: ConvergenceWarning: Liblinear failed to converge, increase the number of iterations.\n",
      "  warnings.warn(\n",
      "c:\\Users\\hp\\AppData\\Local\\Programs\\Python\\Python312\\Lib\\site-packages\\sklearn\\svm\\_base.py:1235: ConvergenceWarning: Liblinear failed to converge, increase the number of iterations.\n",
      "  warnings.warn(\n",
      "c:\\Users\\hp\\AppData\\Local\\Programs\\Python\\Python312\\Lib\\site-packages\\sklearn\\svm\\_base.py:1235: ConvergenceWarning: Liblinear failed to converge, increase the number of iterations.\n",
      "  warnings.warn(\n",
      "c:\\Users\\hp\\AppData\\Local\\Programs\\Python\\Python312\\Lib\\site-packages\\sklearn\\svm\\_base.py:1235: ConvergenceWarning: Liblinear failed to converge, increase the number of iterations.\n",
      "  warnings.warn(\n",
      "c:\\Users\\hp\\AppData\\Local\\Programs\\Python\\Python312\\Lib\\site-packages\\sklearn\\svm\\_base.py:1235: ConvergenceWarning: Liblinear failed to converge, increase the number of iterations.\n",
      "  warnings.warn(\n",
      "c:\\Users\\hp\\AppData\\Local\\Programs\\Python\\Python312\\Lib\\site-packages\\sklearn\\svm\\_base.py:1235: ConvergenceWarning: Liblinear failed to converge, increase the number of iterations.\n",
      "  warnings.warn(\n",
      "c:\\Users\\hp\\AppData\\Local\\Programs\\Python\\Python312\\Lib\\site-packages\\sklearn\\svm\\_base.py:1235: ConvergenceWarning: Liblinear failed to converge, increase the number of iterations.\n",
      "  warnings.warn(\n"
     ]
    },
    {
     "name": "stdout",
     "output_type": "stream",
     "text": [
      "Selected Features: [ True  True False False  True  True False False False False  True  True\n",
      "  True  True False False False False False  True  True False False]\n",
      "Feature Ranking: [ 1  1  3 10  1  1  8  6  5  7  1  1  1  1  4 12  9 13 14  1  1 11  2]\n",
      "\n",
      "NOW TO BUILD THE MODEL USING THE FEATURES THAT THE RECURSIVE FEATURE ELIMINATOR HAS SUGGESTED\n",
      "\n",
      "The accuracy score is 0.9180187873612298\n",
      "The precision score is 0.9082706766917293\n",
      "The F1_Score is 0.9263803680981595\n",
      "\n",
      "For Rejected Loans\n",
      "The precision score is 0.9308300395256917\n",
      "The F1_Score is 0.9075144508670521\n"
     ]
    }
   ],
   "source": [
    "#I take no ownership to this😂😂\n",
    "#For educational purpose, lets try using feature selection method\n",
    "from sklearn.feature_selection import RFECV\n",
    "\n",
    "df1 = df.copy()\n",
    "df1 = pd.get_dummies(df1,columns=['Education Level', 'self_employed'])\n",
    "\n",
    "X = df1[['loan_id','no_of_dependents','Annual Income','loan_amount','loan_term','Credit Score','residential_assets_value', 'commercial_assets_value',\n",
    "        'luxury_assets_value','bank_asset_value','Monthly Income','Annual Income to Loan Amount Ratio','Residential Value to Loan Ratio','Commercial Value to Loan Ratio',\n",
    "       'Luxury Value to Loan Ratio','Bank Value to Loan Ratio','Net Asset Value','Net Asset Value to Loan Amount Ratio','Education Level_ Graduate', \n",
    "       'Education Level_ Not Graduate','self_employed_ No','self_employed_ Yes','Loan Amount to Loan Term Ratio']]\n",
    "       \n",
    "Y = df1['Loan Status']\n",
    "xTrain,xTest,yTrain,yTest = train_test_split(X,Y,test_size=0.2,random_state=42)\n",
    "estimator = LogisticRegression(solver='liblinear', C=1, max_iter=140, penalty='l1', tol=0.0001, class_weight='balanced', random_state=42)\n",
    "selector = RFECV(estimator, step=1, cv=5)\n",
    "selector = selector.fit(xTrain, yTrain)\n",
    "X_new = selector.transform(xTrain)\n",
    "print(\"Selected Features:\", selector.support_)\n",
    "print(\"Feature Ranking:\", selector.ranking_)\n",
    "\n",
    "print(\"\\nNOW TO BUILD THE MODEL USING THE FEATURES THAT THE RECURSIVE FEATURE ELIMINATOR HAS SUGGESTED\\n\")\n",
    "X = df1[['loan_term', 'Credit Score','Annual Income to Loan Amount Ratio','Residential Value to Loan Ratio','Commercial Value to Loan Ratio',    'Education Level_ Not Graduate','self_employed_ No','Loan Amount to Loan Term Ratio']]\n",
    "Y =df1['Loan Status']\n",
    "\n",
    "xTrain,xTest,yTrain,yTest = train_test_split(X,Y,test_size=0.3)\n",
    "a = LogisticRegression(solver='liblinear',C=1,max_iter=140,penalty='l1',tol=0.0001,class_weight='balanced',random_state=42)\n",
    "a.fit(xTrain,yTrain)\n",
    "\n",
    "Ypredict = a.predict(xTest)\n",
    "print(\"The accuracy score is\",accuracy_score(Ypredict,yTest))\n",
    "print(\"The precision score is\",precision_score(Ypredict,yTest,pos_label=' Approved'))\n",
    "print(\"The F1_Score is\",f1_score(Ypredict,yTest,pos_label=' Approved'))\n",
    "print(\"\\nFor Rejected Loans\")\n",
    "print(\"The precision score is\",precision_score(Ypredict,yTest,pos_label=' Rejected'))\n",
    "print(\"The F1_Score is\",f1_score(Ypredict,yTest,pos_label=' Rejected'))"
   ]
  },
  {
   "cell_type": "code",
   "execution_count": 42,
   "metadata": {},
   "outputs": [
    {
     "name": "stdout",
     "output_type": "stream",
     "text": [
      "Index(['loan_id', 'no_of_dependents', 'Education Level', 'self_employed',\n",
      "       'Annual Income', 'loan_amount', 'loan_term', 'Credit Score',\n",
      "       'residential_assets_value', 'commercial_assets_value',\n",
      "       'luxury_assets_value', 'bank_asset_value', 'Loan Status',\n",
      "       'Monthly Income', 'Annual Income to Loan Amount Ratio',\n",
      "       'Loan Amount to Loan Term Ratio', 'Residential Value to Loan Ratio',\n",
      "       'Commercial Value to Loan Ratio', 'Luxury Value to Loan Ratio',\n",
      "       'Bank Value to Loan Ratio', 'Net Asset Value',\n",
      "       'Net Asset Value to Loan Amount Ratio'],\n",
      "      dtype='object')\n",
      "(3902, 22)\n"
     ]
    }
   ],
   "source": [
    "print(df.columns)\n",
    "print(df.shape)"
   ]
  }
 ],
 "metadata": {
  "kernelspec": {
   "display_name": "Python 3",
   "language": "python",
   "name": "python3"
  },
  "language_info": {
   "codemirror_mode": {
    "name": "ipython",
    "version": 3
   },
   "file_extension": ".py",
   "mimetype": "text/x-python",
   "name": "python",
   "nbconvert_exporter": "python",
   "pygments_lexer": "ipython3",
   "version": "3.12.4"
  }
 },
 "nbformat": 4,
 "nbformat_minor": 2
}
